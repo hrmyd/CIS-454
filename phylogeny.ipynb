{
 "cells": [
  {
   "cell_type": "markdown",
   "metadata": {},
   "source": [
    "## Project 4:  &nbsp; Phylogenetic Inference"
   ]
  },
  {
   "cell_type": "markdown",
   "metadata": {},
   "source": [
    "##### Due Friday May 27"
   ]
  },
  {
   "cell_type": "markdown",
   "metadata": {},
   "source": [
    "If two or more people are working on this project enter each person's name here:\n",
    "* Name:\n",
    "* Name:\n",
    "* Name:\n",
    "\n",
    "Note: only one person needs to submit the project via Canvas"
   ]
  },
  {
   "cell_type": "markdown",
   "metadata": {
    "collapsed": true
   },
   "source": [
    "### Distance Matrix "
   ]
  },
  {
   "cell_type": "markdown",
   "metadata": {},
   "source": [
    "The code cell below contains the definition of a DistanceMatrix class you can use for this project.  An instance of this class is a 2D symmetric matrix that represents the \"distance\" between all pairs of set of items.  What the items are, and how the distances are measured, are defined outside the class; this matrix just provides a way to manage the distances.\n",
    "\n",
    "A new object is created by passing the constructor a single integer `n`, e.g.\n",
    "```\n",
    "m = DistanceMatrix(10)\n",
    "```\n",
    "creates a 10 x 10 matrix.  Method defined for the matrix:\n",
    "* call `len(m)` to get the size of the matrix\n",
    "* access an item by location: `m[i,j]` where `i` and `j` are integer indices between 0 and `n`-1\n",
    "* use assignment `m[i,j] = x` to assign a value to a cell; note that since the matrix is symmetric this automatically assigns `m[j,i]` also\n",
    "* call `m.argmin()` to get the `(i,j)` coordinates of the shortest distance in the matrix\n",
    "* delete an item by calling `del m[i]`\n",
    "* call `m.extend()` to add a new row of values (all initialized to 0)"
   ]
  },
  {
   "cell_type": "code",
   "execution_count": 1,
   "metadata": {
    "collapsed": false
   },
   "outputs": [
    {
     "name": "stderr",
     "output_type": "stream",
     "text": [
      "/Users/hrnmy/anaconda3/lib/python3.4/site-packages/pandas/computation/__init__.py:19: UserWarning: The installed version of numexpr 2.4.4 is not supported in pandas and will be not be used\n",
      "\n",
      "  UserWarning)\n"
     ]
    }
   ],
   "source": [
    "import seaborn as sns"
   ]
  },
  {
   "cell_type": "code",
   "execution_count": 2,
   "metadata": {
    "collapsed": false
   },
   "outputs": [],
   "source": [
    "class DistanceMatrix:\n",
    "    def __init__(self, n, labels=None):\n",
    "        self._array = [ [0]*i for i in range(n) ]\n",
    "        self._names = labels if labels is not None else [ str(i) for i in range(n) ]\n",
    "        \n",
    "    def __repr__(self):\n",
    "        header = ' '*5 + '{:^6}'*len(self._array)\n",
    "        content = '{:<5}' + '{:6.2f}'*len(self._array)\n",
    "        # res = [ header.format(*range(len(self._array))) ]\n",
    "        res = [ header.format(*list(map(lambda s: s[0:4], self._names))) ]\n",
    "        for i in range(len(self._array)):\n",
    "            row = [self[i,j] for j in range(len(self._array))]\n",
    "            res.append(content.format(self._names[i][0:4], *row))\n",
    "        return '\\n'.join(res)\n",
    "    \n",
    "    def __len__(self):\n",
    "        return len(self._array)\n",
    "        \n",
    "    def __getitem__(self, loc):\n",
    "        i, j = DistanceMatrix._coords(loc)\n",
    "        return 0.0 if i == j else self._array[i][j]\n",
    "\n",
    "    def __setitem__(self, loc, x):\n",
    "        i, j = DistanceMatrix._coords(loc)\n",
    "        if i != j:\n",
    "            self._array[i][j] = x\n",
    "        \n",
    "    def __delitem__(self, j):\n",
    "        for i in range(j+1, len(self._array)):\n",
    "            del self._array[i][j]\n",
    "        del self._array[j]\n",
    "        del self._names[j]\n",
    "        \n",
    "    def argmin(self):\n",
    "        if len(self._array) < 2:\n",
    "            return None\n",
    "        res = [1, 0, self[1,0]]\n",
    "        for i in range(2, len(self._array)):\n",
    "            j, val = min(enumerate(self._array[i]), key=lambda x: x[1])\n",
    "            if val < res[2]:\n",
    "                res = [i, j, val]\n",
    "        return (res[0], res[1])\n",
    "    \n",
    "    def get_name(self, i):\n",
    "        return self._names[i]\n",
    "    \n",
    "    def set_name(self, i, s):\n",
    "        self._names[i] = s\n",
    "    \n",
    "    def extend(self, name=None):\n",
    "        self._array.append([0]*len(self._array))\n",
    "        self._names.append(name if name is not None else str(len(self._array)-1))\n",
    "        \n",
    "    def heatmap(self):\n",
    "        sns.heatmap(self._array)\n",
    "       \n",
    "    @staticmethod\n",
    "    def _coords(loc):\n",
    "        i, j = loc\n",
    "        return (i, j) if i > j else (j, i)\n",
    "        "
   ]
  },
  {
   "cell_type": "markdown",
   "metadata": {},
   "source": [
    "Here is a short demonstration of how to create and use a DistanceMatrix object.  The matrix will be 7x7.  Note that the diagonals are 0 by default so they don't need to be specified."
   ]
  },
  {
   "cell_type": "code",
   "execution_count": 2,
   "metadata": {
    "collapsed": true
   },
   "outputs": [],
   "source": [
    "# Example from Rich Edwards (http://www.southampton.ac.uk/~re1u06/teaching/upgma/)\n",
    "\n",
    "d = [\n",
    "    [],\n",
    "    [19],\n",
    "    [27, 31],\n",
    "    [ 8, 18, 26],\n",
    "    [33, 36, 41, 31],\n",
    "    [18,  1, 32, 17, 35],\n",
    "    [13, 13, 29, 14, 28, 12],\n",
    "]\n",
    "\n",
    "edwards = DistanceMatrix(len(d), list('ABCDEFG'))\n",
    "\n",
    "for i, row in enumerate(d):\n",
    "    for j in range(len(row)):\n",
    "        edwards[i,j] = row[j]"
   ]
  },
  {
   "cell_type": "code",
   "execution_count": 3,
   "metadata": {
    "collapsed": false
   },
   "outputs": [
    {
     "data": {
      "text/plain": [
       "       A     B     C     D     E     F     G   \n",
       "A      0.00 19.00 27.00  8.00 33.00 18.00 13.00\n",
       "B     19.00  0.00 31.00 18.00 36.00  1.00 13.00\n",
       "C     27.00 31.00  0.00 26.00 41.00 32.00 29.00\n",
       "D      8.00 18.00 26.00  0.00 31.00 17.00 14.00\n",
       "E     33.00 36.00 41.00 31.00  0.00 35.00 28.00\n",
       "F     18.00  1.00 32.00 17.00 35.00  0.00 12.00\n",
       "G     13.00 13.00 29.00 14.00 28.00 12.00  0.00"
      ]
     },
     "execution_count": 3,
     "metadata": {},
     "output_type": "execute_result"
    }
   ],
   "source": [
    "edwards"
   ]
  },
  {
   "cell_type": "markdown",
   "metadata": {},
   "source": [
    "This call shows the shortest distance (smallest non-zero value) is in row 5, column 1:"
   ]
  },
  {
   "cell_type": "code",
   "execution_count": 4,
   "metadata": {
    "collapsed": false
   },
   "outputs": [
    {
     "data": {
      "text/plain": [
       "(5, 1)"
      ]
     },
     "execution_count": 4,
     "metadata": {},
     "output_type": "execute_result"
    }
   ],
   "source": [
    "edwards.argmin()"
   ]
  },
  {
   "cell_type": "markdown",
   "metadata": {},
   "source": [
    "These calls remove items 1 and 5 from the matrix.  Note that removing a row also removes the corresponding column from the other rows."
   ]
  },
  {
   "cell_type": "code",
   "execution_count": 5,
   "metadata": {
    "collapsed": false
   },
   "outputs": [
    {
     "name": "stdout",
     "output_type": "stream",
     "text": [
      "       A     C     D     E     G   \n",
      "A      0.00 27.00  8.00 33.00 13.00\n",
      "C     27.00  0.00 26.00 41.00 29.00\n",
      "D      8.00 26.00  0.00 31.00 14.00\n",
      "E     33.00 41.00 31.00  0.00 28.00\n",
      "G     13.00 29.00 14.00 28.00  0.00\n"
     ]
    }
   ],
   "source": [
    "del edwards[5]\n",
    "del edwards[1]\n",
    "print(edwards)"
   ]
  },
  {
   "cell_type": "markdown",
   "metadata": {},
   "source": [
    "This call adds a new row, e.g. for adding distances to a new node:"
   ]
  },
  {
   "cell_type": "code",
   "execution_count": 6,
   "metadata": {
    "collapsed": false
   },
   "outputs": [
    {
     "name": "stdout",
     "output_type": "stream",
     "text": [
      "       A     C     D     E     G     BF  \n",
      "A      0.00 27.00  8.00 33.00 13.00  0.00\n",
      "C     27.00  0.00 26.00 41.00 29.00  0.00\n",
      "D      8.00 26.00  0.00 31.00 14.00  0.00\n",
      "E     33.00 41.00 31.00  0.00 28.00  0.00\n",
      "G     13.00 29.00 14.00 28.00  0.00  0.00\n",
      "BF     0.00  0.00  0.00  0.00  0.00  0.00\n"
     ]
    }
   ],
   "source": [
    "edwards.extend('BF')\n",
    "print(edwards)"
   ]
  },
  {
   "cell_type": "markdown",
   "metadata": {},
   "source": [
    "### Project 1:  &nbsp; Distance Matrix Based on k-mers"
   ]
  },
  {
   "cell_type": "markdown",
   "metadata": {},
   "source": [
    "Fill in the body of the `kmer_distance` function.  It takes two arguments:  the name of a FASTA file and an integer `k`.  The function should return a DistanceMatrix object with all pairwise distances between the sequences in the file.  \n",
    "\n",
    "The distance between two sequences is defined by the number of _k_-mers they have in common.  First compute _k_-mer sets $S_i$ and $S_j$ for sequences $i$ and $j$.  Then $ A = S_i \\cup S_j$ is the set of _k_-mers found in either sequence, and $C = S_i \\cap S_j$ is the set of _k_-mers they have in common.  The distance between the sequences is then\n",
    "\n",
    "$$\n",
    "d_{i,j} = \\frac{| \\, A \\,| \\;-\\; | \\,C\\, |}{|\\, A\\, |}\n",
    "$$\n"
   ]
  },
  {
   "cell_type": "markdown",
   "metadata": {},
   "source": [
    "To find the _k_-mers in a sequence you can reuse the code you wrote for the de Bruijn graph project or use the `iter_kmers` function in the Sequence class in `scikit-bio`.  Comment out the following code cell if you don't want to use `scikit-bio`."
   ]
  },
  {
   "cell_type": "markdown",
   "metadata": {},
   "source": [
    "**Note:** &nbsp; It's not required for this project, but if you get the name of a sequence from the defline and pass it to the `set_name` method for the matrix the name will be printed as a row and column label, and later displayed as part of the drawing of the phylogenetic tree."
   ]
  },
  {
   "cell_type": "code",
   "execution_count": 2,
   "metadata": {
    "collapsed": false
   },
   "outputs": [
    {
     "name": "stderr",
     "output_type": "stream",
     "text": [
      "/Users/hrnmy/anaconda3/lib/python3.4/site-packages/pandas/computation/__init__.py:19: UserWarning: The installed version of numexpr 2.4.4 is not supported in pandas and will be not be used\n",
      "\n",
      "  UserWarning)\n"
     ]
    }
   ],
   "source": [
    "import skbio\n",
    "import numpy as np"
   ]
  },
  {
   "cell_type": "markdown",
   "metadata": {},
   "source": [
    "##### Documentation and Code"
   ]
  },
  {
   "cell_type": "markdown",
   "metadata": {
    "deletable": false,
    "nbgrader": {
     "checksum": "f733e3f73f5ed5cd258cf30cc79c54b2",
     "grade": true,
     "grade_id": "kmer_doc",
     "locked": false,
     "points": 10,
     "solution": true
    }
   },
   "source": [
    "use skbio to read fasta file into a collection of BiologicalSequence objects, create distance matrix object of size n with labels from sequence id's. Use double for loop to compare each sequence to each other to fill matrix by comparing all kmers to the overlapping kmers between seq 1 and seq 2 (overlapping kmers found using numpy's intersect function)."
   ]
  },
  {
   "cell_type": "code",
   "execution_count": 3,
   "metadata": {
    "collapsed": false,
    "deletable": false,
    "nbgrader": {
     "checksum": "ef43a5271d6c3cb57731eaf01e92ed24",
     "grade": true,
     "grade_id": "kmer_dist",
     "locked": false,
     "points": 15,
     "solution": true
    }
   },
   "outputs": [],
   "source": [
    "def kmer_distance(filename, k):\n",
    "    # YOUR CODE HERE\n",
    "    fasta_file = skbio.SequenceCollection.read(filename)\n",
    "    names = fasta_file.ids()\n",
    "    dm = DistanceMatrix(len(names), names)\n",
    "    \n",
    "    for row, seq1 in enumerate(fasta_file):\n",
    "        for col, seq2 in enumerate(fasta_file):\n",
    "            kmer_2 = np.array([str(k) for k in seq2.iter_kmers(k)])\n",
    "            kmer_1 = np.array([str(k) for k in seq1.iter_kmers(k)])\n",
    "            \n",
    "            combined = len(kmer_1) + len(kmer_2)\n",
    "            intersect = len(np.intersect1d(kmer_1, kmer_2))\n",
    "\n",
    "            score = (combined - intersect)/combined\n",
    "            \n",
    "            dm[row, col] = score\n",
    "        \n",
    "    return dm"
   ]
  },
  {
   "cell_type": "markdown",
   "metadata": {},
   "source": [
    "##### Autograder Tests "
   ]
  },
  {
   "cell_type": "markdown",
   "metadata": {},
   "source": [
    "The autograder will run these tests in the order shown.  Feel free to use these tests yourself, but do not alter the cells or reorder them."
   ]
  },
  {
   "cell_type": "code",
   "execution_count": 52,
   "metadata": {
    "collapsed": false
   },
   "outputs": [
    {
     "name": "stdout",
     "output_type": "stream",
     "text": [
      "      Huma  Gori  Spid  Hors  Deer  Pig   Cow   Gull  Trou  Rock  Lamp  Sea_ \n",
      "Huma   0.00  0.61  0.64  0.70  0.74  0.68  0.70  0.75  0.81  0.79  0.85  0.85\n",
      "Gori   0.61  0.00  0.64  0.70  0.75  0.68  0.70  0.75  0.81  0.79  0.85  0.85\n",
      "Spid   0.64  0.64  0.00  0.70  0.74  0.68  0.70  0.74  0.82  0.81  0.85  0.85\n",
      "Hors   0.70  0.70  0.70  0.00  0.76  0.71  0.73  0.75  0.84  0.82  0.89  0.86\n",
      "Deer   0.74  0.75  0.74  0.76  0.00  0.75  0.74  0.79  0.83  0.82  0.86  0.85\n",
      "Pig    0.68  0.68  0.68  0.71  0.75  0.00  0.70  0.75  0.82  0.80  0.86  0.83\n",
      "Cow    0.70  0.70  0.70  0.73  0.74  0.70  0.00  0.77  0.83  0.81  0.84  0.85\n",
      "Gull   0.75  0.75  0.74  0.75  0.79  0.75  0.77  0.00  0.79  0.79  0.85  0.83\n",
      "Trou   0.81  0.81  0.82  0.84  0.83  0.82  0.83  0.79  0.00  0.78  0.85  0.84\n",
      "Rock   0.79  0.79  0.81  0.82  0.82  0.80  0.81  0.79  0.78  0.00  0.85  0.85\n",
      "Lamp   0.85  0.85  0.85  0.89  0.86  0.86  0.84  0.85  0.85  0.85  0.00  0.84\n",
      "Sea_   0.85  0.85  0.85  0.86  0.85  0.83  0.85  0.83  0.84  0.85  0.84  0.00\n"
     ]
    }
   ],
   "source": [
    "m = kmer_distance('hbb.fasta', 2)\n",
    "print(m)"
   ]
  },
  {
   "cell_type": "code",
   "execution_count": null,
   "metadata": {
    "collapsed": false
   },
   "outputs": [],
   "source": [
    "m.heatmap()"
   ]
  },
  {
   "cell_type": "code",
   "execution_count": 183,
   "metadata": {
    "collapsed": true,
    "deletable": false,
    "nbgrader": {
     "checksum": "c8a53111c2bd4035aff4dbce29c8278f",
     "grade": true,
     "grade_id": "kd_test_1",
     "locked": true,
     "points": 2,
     "solution": false
    }
   },
   "outputs": [],
   "source": [
    "assert len(m) == 12"
   ]
  },
  {
   "cell_type": "code",
   "execution_count": 184,
   "metadata": {
    "collapsed": true,
    "deletable": false,
    "nbgrader": {
     "checksum": "bf504cf8730e3c6bd8596d946d524589",
     "grade": true,
     "grade_id": "kd_test_2",
     "locked": true,
     "points": 3,
     "solution": false
    }
   },
   "outputs": [],
   "source": [
    "assert m.argmin() == (1,0)"
   ]
  },
  {
   "cell_type": "markdown",
   "metadata": {},
   "source": [
    "### Project 2: &nbsp; UPGMA "
   ]
  },
  {
   "cell_type": "markdown",
   "metadata": {},
   "source": [
    "Fill in the body of the `upgma` function so it produces a phylogenetic tree.  The only argument passed to the functon is a DistanceMatrix object.  The return value should be the Newick string representation of the tree (although see the list of optional projects below for alternatives). \n",
    "\n",
    "The unit tests will be based on the same data used to illustrate the DistanceMatrix class.  This is the tree you should get back:\n",
    "```\n",
    ">>> print(upgma(edwards))\n",
    "(E:17.00,((((F:0.50,B:0.50):5.75,G:6.25):2.00,(D:4.00,A:4.00):4.25):6.25,C:14.50):2.50)\n",
    "```\n",
    "\n",
    "**Note:** &nbsp; the lecture notes for May 16--20 have several hints and suggestions for how to implement this function.  You can also get some ideas from _IAB_."
   ]
  },
  {
   "cell_type": "markdown",
   "metadata": {},
   "source": [
    "##### Documentation and Code"
   ]
  },
  {
   "cell_type": "markdown",
   "metadata": {
    "deletable": false,
    "nbgrader": {
     "checksum": "0dec3fcd2238076b7405bf423ea16d93",
     "grade": true,
     "grade_id": "upgma_doc",
     "locked": false,
     "points": 10,
     "solution": true
    }
   },
   "source": [
    "Keep track of counts of each sequence and heights of each group with a dictionary. Use while loop until only one group in matrix left, set node_1 and node_2 to each minimum value in the matrix, then find the mean of those two distances. Set branch length from group one to group two by subtracting mean branch distance from connected groups. Set row labels as the Newick string and use those to create new entries in counts and height dictionaries while deleting old values. In for loop find distance between new group and all non-node_1, node_2 members in matrix.\n",
    "\n",
    "Function returns Newick string produced from adding matrix labels together."
   ]
  },
  {
   "cell_type": "code",
   "execution_count": 4,
   "metadata": {
    "collapsed": false,
    "deletable": false,
    "nbgrader": {
     "checksum": "aaa69a0deb0930aa4fd5c5c53e9a20fb",
     "grade": true,
     "grade_id": "upgma",
     "locked": false,
     "points": 25,
     "solution": true
    }
   },
   "outputs": [],
   "source": [
    "def upgma(matrix):\n",
    "    # YOUR CODE HERE\n",
    "    nodes = [matrix.get_name(i) for i in range(len(matrix))]\n",
    "    counts = {n: 1 for n in nodes}\n",
    "    heights = {n: 0 for n in nodes}\n",
    "    \n",
    "    while len(matrix) > 1:\n",
    "        size_m = len(matrix)\n",
    "        \n",
    "        min_d = matrix.argmin()\n",
    "        node_1 = matrix.get_name(min_d[0])\n",
    "        node_2 = matrix.get_name(min_d[1])\n",
    "        \n",
    "        joined_score = matrix[(min_d)]/2\n",
    "        heights[node_1] = joined_score - heights[node_1]\n",
    "        heights[node_2] = joined_score - heights[node_2]\n",
    "        joined_name = ('({}: {}, {}: {})'.format(node_1, heights[node_1], node_2, heights[node_2]))\n",
    "        \n",
    "        counts[joined_name] = counts[node_1] + counts[node_2]\n",
    "        heights[joined_name] = joined_score\n",
    "        \n",
    "        matrix.extend(joined_name)\n",
    "        \n",
    "        for k in range(size_m):\n",
    "            if k == min_d[0] or k == min_d[1]:\n",
    "                continue\n",
    "            else:\n",
    "                i = counts[node_1]\n",
    "                j = counts[node_2]\n",
    "                matrix[k,size_m] = (i/(i+j))*matrix[k,min_d[0]] + (j/(i+j))*matrix[k,min_d[1]]\n",
    "        \n",
    "        del matrix[min_d[0]], matrix[min_d[1]]\n",
    "        del counts[node_1], counts[node_2]\n",
    "        del heights[node_1], heights[node_2]\n",
    "        \n",
    "        \n",
    "    return matrix.get_name(0) + ';'"
   ]
  },
  {
   "cell_type": "markdown",
   "metadata": {},
   "source": [
    "##### Autograder Tests "
   ]
  },
  {
   "cell_type": "markdown",
   "metadata": {},
   "source": [
    "The autograder will run these tests in the order shown.  Feel free to use these tests yourself, but do not alter the cells or reorder them.\n",
    "\n",
    "**NOTE:** &nbsp; the autograder will run on a system that has `scikit-bio` installed so it can use that library's TreeNode class to test your output.  If you do not have `scikit-bio` just make sure your string looks like the one shown above and it will pass the unit tests."
   ]
  },
  {
   "cell_type": "code",
   "execution_count": 5,
   "metadata": {
    "collapsed": false
   },
   "outputs": [],
   "source": [
    "distances = [\n",
    "    [],\n",
    "    [19],\n",
    "    [27, 31],\n",
    "    [ 8, 18, 26],\n",
    "    [33, 36, 41, 31],\n",
    "    [18,  1, 32, 17, 35],\n",
    "    [13, 13, 29, 14, 28, 12],\n",
    "]\n",
    "\n",
    "edwards = DistanceMatrix(len(distances), list('ABCDEFG'))\n",
    "\n",
    "for i, row in enumerate(distances):\n",
    "    for j in range(len(row)):\n",
    "        edwards[i,j] = row[j]\n",
    "        \n",
    "newick = upgma(edwards)"
   ]
  },
  {
   "cell_type": "code",
   "execution_count": 6,
   "metadata": {
    "collapsed": false
   },
   "outputs": [
    {
     "name": "stdout",
     "output_type": "stream",
     "text": [
      "(((((F: 0.5, B: 0.5): 5.75, G: 6.25): 2.0, (D: 4.0, A: 4.0): 4.25): 6.25, C: 14.5): 2.5, E: 17.0)\n"
     ]
    }
   ],
   "source": [
    "print(newick)"
   ]
  },
  {
   "cell_type": "code",
   "execution_count": 7,
   "metadata": {
    "collapsed": true
   },
   "outputs": [],
   "source": [
    "from skbio import TreeNode\n",
    "from io import StringIO"
   ]
  },
  {
   "cell_type": "code",
   "execution_count": 8,
   "metadata": {
    "collapsed": false
   },
   "outputs": [
    {
     "name": "stdout",
     "output_type": "stream",
     "text": [
      "                                                  /-F\n",
      "                                        /--------|\n",
      "                              /--------|          \\-B\n",
      "                             |         |\n",
      "                    /--------|          \\-G\n",
      "                   |         |\n",
      "                   |         |          /-D\n",
      "          /--------|          \\--------|\n",
      "         |         |                    \\-A\n",
      "-root----|         |\n",
      "         |          \\-C\n",
      "         |\n",
      "          \\-E\n"
     ]
    }
   ],
   "source": [
    "tree = TreeNode.read(StringIO(newick+'root;'))\n",
    "print(tree.ascii_art())"
   ]
  },
  {
   "cell_type": "code",
   "execution_count": 78,
   "metadata": {
    "collapsed": false,
    "deletable": false,
    "nbgrader": {
     "checksum": "ff63073d4acf579db23ec15016d76ca5",
     "grade": true,
     "grade_id": "upgma_test1",
     "locked": true,
     "points": 3,
     "solution": false
    }
   },
   "outputs": [],
   "source": [
    "assert len(list(tree.tips())) == len(distances)"
   ]
  },
  {
   "cell_type": "code",
   "execution_count": 79,
   "metadata": {
    "collapsed": true,
    "deletable": false,
    "nbgrader": {
     "checksum": "0c88639577a01f019be99f64058815c1",
     "grade": true,
     "grade_id": "upgma_test2",
     "locked": true,
     "points": 3,
     "solution": false
    }
   },
   "outputs": [],
   "source": [
    "children = tree.children\n",
    "assert len(children) == 2"
   ]
  },
  {
   "cell_type": "code",
   "execution_count": 80,
   "metadata": {
    "collapsed": false,
    "deletable": false,
    "nbgrader": {
     "checksum": "67936aa659f1fbac2dd951cf3e20151a",
     "grade": true,
     "grade_id": "upgma_test3",
     "locked": true,
     "points": 4,
     "solution": false
    }
   },
   "outputs": [],
   "source": [
    "ebranch, longbranch = children\n",
    "if ebranch.name != 'E':\n",
    "    ebranch, longbranch = longbranch, ebranch\n",
    "\n",
    "assert ebranch.length == 17.0\n",
    "assert longbranch.length == 2.5"
   ]
  },
  {
   "cell_type": "markdown",
   "metadata": {},
   "source": [
    "### Project 3: &nbsp; Globin Tree "
   ]
  },
  {
   "cell_type": "markdown",
   "metadata": {},
   "source": [
    "Use your `kmer_distance` function to make a distance matrix based on the 12 globin sequences in `hbb.fasta` and then create a phylogeny of the sequences by passing the matrix to `upgma`.\n",
    "\n",
    "Use the `draw` method in Biopython's Phylo module or the `ete3` module described in Section 2.4.5 of _IAB_ to draw a picture of the tree.  You should see something like the graphic below.\n",
    "\n",
    "**Note:** &nbsp; You can use a different graphics package if you want.  In case I don't have the same software on my system e-mail the drawing (PNG, SVG, or PDF) to me when you upload your notebook to Canvas."
   ]
  },
  {
   "cell_type": "code",
   "execution_count": 11,
   "metadata": {
    "collapsed": false,
    "scrolled": true
   },
   "outputs": [
    {
     "data": {
      "text/html": [
       "<img src=\"http://www.cs.uoregon.edu/Classes/16S/cis454/graphics/projects/globin.png\"/>"
      ],
      "text/plain": [
       "<IPython.core.display.Image object>"
      ]
     },
     "execution_count": 11,
     "metadata": {},
     "output_type": "execute_result"
    }
   ],
   "source": [
    "from IPython.display import Image\n",
    "Image(url='http://www.cs.uoregon.edu/Classes/16S/cis454/graphics/projects/globin.png')"
   ]
  },
  {
   "cell_type": "markdown",
   "metadata": {},
   "source": [
    "##### Documentation and Code"
   ]
  },
  {
   "cell_type": "markdown",
   "metadata": {},
   "source": [
    "Describe what you did to draw your tree in this markdown cell, and put the code you used to generate the drawing in the code cell below it.  There are no autograder test cells for this part of the project."
   ]
  },
  {
   "cell_type": "markdown",
   "metadata": {
    "deletable": false,
    "nbgrader": {
     "checksum": "1159c085ce469d01d5ce4f055223f57d",
     "grade": true,
     "grade_id": "drawing_doc",
     "locked": false,
     "points": 10,
     "solution": true
    }
   },
   "source": [
    "Used ete3 to draw up a tree and save to a .png file"
   ]
  },
  {
   "cell_type": "code",
   "execution_count": 6,
   "metadata": {
    "collapsed": false
   },
   "outputs": [],
   "source": [
    "from ete3 import Tree, TreeStyle"
   ]
  },
  {
   "cell_type": "code",
   "execution_count": 7,
   "metadata": {
    "collapsed": true
   },
   "outputs": [],
   "source": [
    "m = kmer_distance('hbb.fasta', 2)\n",
    "newick_hbb = upgma(m)"
   ]
  },
  {
   "cell_type": "code",
   "execution_count": 9,
   "metadata": {
    "collapsed": false
   },
   "outputs": [
    {
     "data": {
      "text/plain": [
       "'((Sea_Cucumber: 0.4180327868852459, Lamprey: 0.4180327868852459): 0.007546929241904365, ((Rock_Cod: 0.3879310344827586, Trout: 0.3879310344827586): 0.01800442192309476, (((((((Gorilla: 0.3065068493150685, Human: 0.3065068493150685): 0.013939886080120478, Spider_Monkey: 0.320446735395189): 0.020148516806888672, Pig: 0.34059525220207765): 0.008714197744229435, Cow: 0.3493094499463071): 0.004595586441431321, Horse: 0.3539050363877384): 0.019581108971915506, Deer: 0.3734861453596539): 0.005591533264126203, Gull: 0.3790776786237801): 0.026857777782073267): 0.01964425972129691);'"
      ]
     },
     "execution_count": 9,
     "metadata": {},
     "output_type": "execute_result"
    }
   ],
   "source": [
    "newick_hbb"
   ]
  },
  {
   "cell_type": "code",
   "execution_count": 9,
   "metadata": {
    "collapsed": false,
    "deletable": false,
    "nbgrader": {
     "checksum": "7fcb658062fdd23ba7042c4ca3c9b098",
     "grade": true,
     "grade_id": "drawing",
     "locked": false,
     "points": 15,
     "solution": true
    }
   },
   "outputs": [
    {
     "data": {
      "text/plain": [
       "{'faces': [[174.71505267123428,\n",
       "   186.44695186919938,\n",
       "   209.36927799445428,\n",
       "   197.99836031027272,\n",
       "   11,\n",
       "   '0.0046'],\n",
       "  [317.38650915124384,\n",
       "   7.219630275670838,\n",
       "   417.0174069555015,\n",
       "   21.658890827012513,\n",
       "   2,\n",
       "   'Sea_Cucumber'],\n",
       "  [284.176209883158,\n",
       "   2.887852110268335,\n",
       "   313.05473098584133,\n",
       "   14.439260551341675,\n",
       "   2,\n",
       "   '0.418'],\n",
       "  [317.38650915124384,\n",
       "   33.210299268085855,\n",
       "   373.69962530147643,\n",
       "   47.64955981942753,\n",
       "   3,\n",
       "   'Lamprey'],\n",
       "  [284.176209883158,\n",
       "   28.87852110268335,\n",
       "   313.05473098584133,\n",
       "   40.42992954375669,\n",
       "   3,\n",
       "   '0.418'],\n",
       "  [50.537411929695864,\n",
       "   262.9975941359217,\n",
       "   85.19163725291588,\n",
       "   274.54900257699506,\n",
       "   8,\n",
       "   '0.0269'],\n",
       "  [472.2441160309013,\n",
       "   189.15431322257595,\n",
       "   492.4590808027796,\n",
       "   203.59357377391763,\n",
       "   18,\n",
       "   'Pig'],\n",
       "  [439.03381676281543,\n",
       "   184.82253505717344,\n",
       "   467.9123378654988,\n",
       "   196.37394349824677,\n",
       "   18,\n",
       "   '0.341'],\n",
       "  [11.55140844107334,\n",
       "   15.883186606475842,\n",
       "   53.4252640399642,\n",
       "   27.434595047549184,\n",
       "   1,\n",
       "   '0.00755'],\n",
       "  [368.15334232106244,\n",
       "   267.126320199821,\n",
       "   399.91971553401413,\n",
       "   281.56558075116266,\n",
       "   21,\n",
       "   'Deer'],\n",
       "  [334.94304305297663,\n",
       "   262.7945420344185,\n",
       "   363.82156415566,\n",
       "   274.3459504754918,\n",
       "   21,\n",
       "   '0.373'],\n",
       "  [259.90668992415016,\n",
       "   139.33886432044716,\n",
       "   294.5609152473702,\n",
       "   150.8902727615205,\n",
       "   13,\n",
       "   '0.0201'],\n",
       "  [50.537411929695864,\n",
       "   67.86452459130587,\n",
       "   79.41593303237921,\n",
       "   79.41593303237921,\n",
       "   5,\n",
       "   '0.018'],\n",
       "  [529.3979222729488,\n",
       "   137.1729752377459,\n",
       "   575.6035560372421,\n",
       "   151.61223578908758,\n",
       "   16,\n",
       "   'Human'],\n",
       "  [496.1876230048629,\n",
       "   132.84119707234342,\n",
       "   525.0661441075463,\n",
       "   144.39260551341675,\n",
       "   16,\n",
       "   '0.307'],\n",
       "  [324.9936731706226,\n",
       "   59.200968260500865,\n",
       "   392.8581977619285,\n",
       "   73.64022881184255,\n",
       "   6,\n",
       "   'Rock_Cod'],\n",
       "  [291.78337390253677,\n",
       "   54.86919009509837,\n",
       "   320.6618950052201,\n",
       "   66.42059853617171,\n",
       "   6,\n",
       "   '0.388'],\n",
       "  [89.52341541831838,\n",
       "   237.20997724500995,\n",
       "   131.39727101720925,\n",
       "   248.7613856860833,\n",
       "   9,\n",
       "   '0.00559'],\n",
       "  [324.9936731706226,\n",
       "   85.19163725291588,\n",
       "   358.2039724387085,\n",
       "   99.63089780425756,\n",
       "   7,\n",
       "   'Trout'],\n",
       "  [291.78337390253677,\n",
       "   80.85985908751339,\n",
       "   320.6618950052201,\n",
       "   92.41126752858672,\n",
       "   7,\n",
       "   '0.388'],\n",
       "  [395.18092527158274,\n",
       "   241.13565120740597,\n",
       "   434.1669287602053,\n",
       "   255.57491175874765,\n",
       "   20,\n",
       "   'Horse'],\n",
       "  [361.9706260034969,\n",
       "   236.80387304200346,\n",
       "   390.8491471061802,\n",
       "   248.35528148307682,\n",
       "   20,\n",
       "   '0.354'],\n",
       "  [498.9251761406083,\n",
       "   163.16364423016094,\n",
       "   598.5560739448658,\n",
       "   177.60290478150262,\n",
       "   17,\n",
       "   'Spider_Monkey'],\n",
       "  [471.49058109305906,\n",
       "   158.83186606475843,\n",
       "   494.5933979752058,\n",
       "   170.38327450583176,\n",
       "   17,\n",
       "   '0.32'],\n",
       "  [529.3979222729488,\n",
       "   111.18230624533089,\n",
       "   571.2717778718396,\n",
       "   125.62156679667257,\n",
       "   15,\n",
       "   'Gorilla'],\n",
       "  [496.1876230048629,\n",
       "   106.8505280799284,\n",
       "   525.0661441075463,\n",
       "   118.40193652100173,\n",
       "   15,\n",
       "   '0.307'],\n",
       "  [135.72904918261173,\n",
       "   211.62541245560143,\n",
       "   170.38327450583176,\n",
       "   223.17682089667477,\n",
       "   10,\n",
       "   '0.0196'],\n",
       "  [325.3625256808203,\n",
       "   293.116989192236,\n",
       "   351.3531946732353,\n",
       "   307.55624974357767,\n",
       "   22,\n",
       "   'Gull'],\n",
       "  [292.1522264127344,\n",
       "   288.7852110268335,\n",
       "   321.0307475154178,\n",
       "   300.3366194679068,\n",
       "   22,\n",
       "   '0.379'],\n",
       "  [298.89269341277264,\n",
       "   119.8458625761359,\n",
       "   333.5469187359927,\n",
       "   131.39727101720925,\n",
       "   14,\n",
       "   '0.0139'],\n",
       "  [213.7010561598568,\n",
       "   162.0806996888103,\n",
       "   255.57491175874765,\n",
       "   173.63210812988365,\n",
       "   12,\n",
       "   '0.00871'],\n",
       "  [431.36034842991563,\n",
       "   215.14498221499096,\n",
       "   460.238869532599,\n",
       "   229.58424276633264,\n",
       "   19,\n",
       "   'Cow'],\n",
       "  [398.1500491618298,\n",
       "   210.81320404958845,\n",
       "   427.0285702645131,\n",
       "   222.36461249066178,\n",
       "   19,\n",
       "   '0.349'],\n",
       "  [11.55140844107334,\n",
       "   165.4310593636138,\n",
       "   46.20563376429336,\n",
       "   176.98246780468713,\n",
       "   4,\n",
       "   '0.0196'],\n",
       "  [1.4439260551341675,\n",
       "   90.65712298504482,\n",
       "   7.219630275670838,\n",
       "   102.20853142611816,\n",
       "   0,\n",
       "   '0']],\n",
       " 'node_areas': {0: [1.4439260551341675,\n",
       "   1.4439260551341675,\n",
       "   598.5560739448658,\n",
       "   313.33195396411435],\n",
       "  1: [11.55140844107334,\n",
       "   1.4439260551341675,\n",
       "   417.0174069555015,\n",
       "   53.4252640399642],\n",
       "  2: [57.7570422053667,\n",
       "   1.4439260551341675,\n",
       "   417.0174069555015,\n",
       "   27.434595047549184],\n",
       "  3: [57.7570422053667,\n",
       "   27.434595047549184,\n",
       "   373.69962530147643,\n",
       "   53.4252640399642],\n",
       "  4: [11.55140844107334,\n",
       "   53.4252640399642,\n",
       "   598.5560739448658,\n",
       "   313.33195396411435],\n",
       "  5: [50.537411929695864,\n",
       "   53.4252640399642,\n",
       "   392.8581977619285,\n",
       "   105.40660202479422],\n",
       "  6: [83.74771119778171,\n",
       "   53.4252640399642,\n",
       "   392.8581977619285,\n",
       "   79.41593303237921],\n",
       "  7: [83.74771119778171,\n",
       "   79.41593303237921,\n",
       "   358.2039724387085,\n",
       "   105.40660202479422],\n",
       "  8: [50.537411929695864,\n",
       "   105.40660202479422,\n",
       "   598.5560739448658,\n",
       "   313.33195396411435],\n",
       "  9: [89.52341541831838,\n",
       "   105.40660202479422,\n",
       "   598.5560739448658,\n",
       "   287.34128497169934],\n",
       "  10: [135.72904918261173,\n",
       "   105.40660202479422,\n",
       "   598.5560739448658,\n",
       "   261.3506159792843],\n",
       "  11: [174.71505267123428,\n",
       "   105.40660202479422,\n",
       "   598.5560739448658,\n",
       "   235.3599469868693],\n",
       "  12: [213.7010561598568,\n",
       "   105.40660202479422,\n",
       "   598.5560739448658,\n",
       "   209.36927799445428],\n",
       "  13: [259.90668992415016,\n",
       "   105.40660202479422,\n",
       "   598.5560739448658,\n",
       "   183.37860900203927],\n",
       "  14: [298.89269341277264,\n",
       "   105.40660202479422,\n",
       "   575.6035560372421,\n",
       "   157.38794000962426],\n",
       "  15: [337.8786969013952,\n",
       "   105.40660202479422,\n",
       "   571.2717778718396,\n",
       "   131.39727101720925],\n",
       "  16: [337.8786969013952,\n",
       "   131.39727101720925,\n",
       "   575.6035560372421,\n",
       "   157.38794000962426],\n",
       "  17: [298.89269341277264,\n",
       "   157.38794000962426,\n",
       "   598.5560739448658,\n",
       "   183.37860900203927],\n",
       "  18: [259.90668992415016,\n",
       "   183.37860900203927,\n",
       "   492.4590808027796,\n",
       "   209.36927799445428],\n",
       "  19: [213.7010561598568,\n",
       "   209.36927799445428,\n",
       "   460.238869532599,\n",
       "   235.3599469868693],\n",
       "  20: [174.71505267123428,\n",
       "   235.3599469868693,\n",
       "   434.1669287602053,\n",
       "   261.3506159792843],\n",
       "  21: [135.72904918261173,\n",
       "   261.3506159792843,\n",
       "   399.91971553401413,\n",
       "   287.34128497169934],\n",
       "  22: [89.52341541831838,\n",
       "   287.34128497169934,\n",
       "   351.3531946732353,\n",
       "   313.33195396411435]},\n",
       " 'nodes': [[209.36927799445428,\n",
       "   195.83247122757146,\n",
       "   213.7010561598568,\n",
       "   200.16424939297397,\n",
       "   11,\n",
       "   None],\n",
       "  [313.05473098584133,\n",
       "   12.273371468640423,\n",
       "   317.38650915124384,\n",
       "   16.605149634042927,\n",
       "   2,\n",
       "   None],\n",
       "  [313.05473098584133,\n",
       "   38.26404046105544,\n",
       "   317.38650915124384,\n",
       "   42.59581862645794,\n",
       "   3,\n",
       "   None],\n",
       "  [85.19163725291588,\n",
       "   272.3831134942938,\n",
       "   89.52341541831838,\n",
       "   276.7148916596963,\n",
       "   8,\n",
       "   None],\n",
       "  [467.9123378654988,\n",
       "   194.20805441554552,\n",
       "   472.2441160309013,\n",
       "   198.53983258094803,\n",
       "   18,\n",
       "   None],\n",
       "  [53.4252640399642,\n",
       "   25.268705964847932,\n",
       "   57.7570422053667,\n",
       "   29.600484130250432,\n",
       "   1,\n",
       "   None],\n",
       "  [363.82156415566,\n",
       "   272.18006139279055,\n",
       "   368.15334232106244,\n",
       "   276.51183955819306,\n",
       "   21,\n",
       "   None],\n",
       "  [294.5609152473702,\n",
       "   148.72438367881927,\n",
       "   298.89269341277264,\n",
       "   153.05616184422175,\n",
       "   13,\n",
       "   None],\n",
       "  [79.41593303237921,\n",
       "   77.25004394967796,\n",
       "   83.74771119778171,\n",
       "   81.58182211508047,\n",
       "   5,\n",
       "   None],\n",
       "  [525.0661441075463,\n",
       "   142.2267164307155,\n",
       "   529.3979222729488,\n",
       "   146.558494596118,\n",
       "   16,\n",
       "   None],\n",
       "  [320.6618950052201,\n",
       "   64.25470945347045,\n",
       "   324.9936731706226,\n",
       "   68.58648761887295,\n",
       "   6,\n",
       "   None],\n",
       "  [131.39727101720925,\n",
       "   246.59549660338203,\n",
       "   135.72904918261173,\n",
       "   250.92727476878454,\n",
       "   9,\n",
       "   None],\n",
       "  [320.6618950052201,\n",
       "   90.24537844588546,\n",
       "   324.9936731706226,\n",
       "   94.57715661128798,\n",
       "   7,\n",
       "   None],\n",
       "  [390.8491471061802,\n",
       "   246.18939240037557,\n",
       "   395.18092527158274,\n",
       "   250.52117056577805,\n",
       "   20,\n",
       "   None],\n",
       "  [494.5933979752058,\n",
       "   168.2173854231305,\n",
       "   498.9251761406083,\n",
       "   172.54916358853302,\n",
       "   17,\n",
       "   None],\n",
       "  [525.0661441075463,\n",
       "   116.23604743830049,\n",
       "   529.3979222729488,\n",
       "   120.56782560370299,\n",
       "   15,\n",
       "   None],\n",
       "  [170.38327450583176,\n",
       "   221.0109318139735,\n",
       "   174.71505267123428,\n",
       "   225.34270997937602,\n",
       "   10,\n",
       "   None],\n",
       "  [321.0307475154178,\n",
       "   298.1707303852056,\n",
       "   325.3625256808203,\n",
       "   302.50250855060807,\n",
       "   22,\n",
       "   None],\n",
       "  [333.5469187359927,\n",
       "   129.231381934508,\n",
       "   337.8786969013952,\n",
       "   133.5631600999105,\n",
       "   14,\n",
       "   None],\n",
       "  [255.57491175874765,\n",
       "   171.4662190471824,\n",
       "   259.90668992415016,\n",
       "   175.7979972125849,\n",
       "   12,\n",
       "   None],\n",
       "  [427.0285702645131,\n",
       "   220.19872340796056,\n",
       "   431.36034842991563,\n",
       "   224.53050157336304,\n",
       "   19,\n",
       "   None],\n",
       "  [46.20563376429336,\n",
       "   174.81657872198588,\n",
       "   50.537411929695864,\n",
       "   179.1483568873884,\n",
       "   4,\n",
       "   None],\n",
       "  [7.219630275670838,\n",
       "   100.04264234341692,\n",
       "   11.55140844107334,\n",
       "   104.37442050881941,\n",
       "   0,\n",
       "   None]]}"
      ]
     },
     "execution_count": 9,
     "metadata": {},
     "output_type": "execute_result"
    }
   ],
   "source": [
    "# YOUR CODE HERE\n",
    "t = Tree(newick_hbb)\n",
    "ts = TreeStyle()\n",
    "ts.show_branch_length = True\n",
    "t.render('newick.png', w = 600, tree_style = ts)"
   ]
  },
  {
   "cell_type": "code",
   "execution_count": 12,
   "metadata": {
    "collapsed": false
   },
   "outputs": [
    {
     "data": {
      "image/png": "[encoded data removed]",
      "text/plain": [
       "<IPython.core.display.Image object>"
      ]
     },
     "execution_count": 12,
     "metadata": {},
     "output_type": "execute_result"
    }
   ],
   "source": [
    "Image('newick.png')"
   ]
  },
  {
   "cell_type": "markdown",
   "metadata": {},
   "source": [
    "### Extensions "
   ]
  },
  {
   "cell_type": "markdown",
   "metadata": {},
   "source": [
    "If you want to go beyond the basic project and do some more on your own here are some ideas to consider."
   ]
  },
  {
   "cell_type": "markdown",
   "metadata": {},
   "source": [
    "##### Art Contest "
   ]
  },
  {
   "cell_type": "markdown",
   "metadata": {},
   "source": [
    "Explore alternatives for drawing trees -- the libraries have commands to draw branches with different colors, include images of the organisms at the leaves, and much more.\n",
    "\n",
    "Submit your results by e-mail, I'll post noteworthy images on Canvas."
   ]
  },
  {
   "cell_type": "markdown",
   "metadata": {},
   "source": [
    "##### Edit Distance"
   ]
  },
  {
   "cell_type": "markdown",
   "metadata": {},
   "source": [
    "Instead of using _k_-mers to compute the distances between sequences implement the dynamic programming alignment algorithm based on edit distance, where increasing alignment scores indicate increasing distance, and use those values to create the distance matrix."
   ]
  },
  {
   "cell_type": "markdown",
   "metadata": {},
   "source": [
    "##### Heat Map"
   ]
  },
  {
   "cell_type": "markdown",
   "metadata": {},
   "source": [
    "Add a method to the DistanceMatrix class to display a \"heat map\", a 2D grid where square `(i,j)` is colored according to the similarity of sequences `i` and `j` (_IAB_ uses this technique to show example distance matrices)."
   ]
  },
  {
   "cell_type": "markdown",
   "metadata": {},
   "source": [
    "##### Neighbor Joining"
   ]
  },
  {
   "cell_type": "markdown",
   "metadata": {},
   "source": [
    "Use the distance matrix to implement the Neighbor Joining algorithm (as outlined in the lecture notes)."
   ]
  },
  {
   "cell_type": "markdown",
   "metadata": {},
   "source": [
    "##### Progressive Alignment "
   ]
  },
  {
   "cell_type": "markdown",
   "metadata": {},
   "source": [
    "Use the UPGMA or Neighbor-Joining trees as guide trees to implement progressive multiple alignment in the style of CLUSTALW."
   ]
  },
  {
   "cell_type": "code",
   "execution_count": null,
   "metadata": {
    "collapsed": true
   },
   "outputs": [],
   "source": []
  }
 ],
 "metadata": {
  "kernelspec": {
   "display_name": "Python 3",
   "language": "python",
   "name": "python3"
  },
  "language_info": {
   "codemirror_mode": {
    "name": "ipython",
    "version": 3
   },
   "file_extension": ".py",
   "mimetype": "text/x-python",
   "name": "python",
   "nbconvert_exporter": "python",
   "pygments_lexer": "ipython3",
   "version": "3.4.4"
  }
 },
 "nbformat": 4,
 "nbformat_minor": 0
}
