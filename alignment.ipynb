{
 "cells": [
  {
   "cell_type": "markdown",
   "metadata": {},
   "source": [
    "## Project 3:  Sequence Alignment "
   ]
  },
  {
   "cell_type": "markdown",
   "metadata": {
    "collapsed": true
   },
   "source": [
    "##### Due Friday May 13"
   ]
  },
  {
   "cell_type": "markdown",
   "metadata": {},
   "source": [
    "If two or more people are working on this project enter each person's name here:\n",
    "* Name:\n",
    "* Name:\n",
    "* Name:\n",
    "\n",
    "Note: only one person needs to submit the project via Canvas"
   ]
  },
  {
   "cell_type": "markdown",
   "metadata": {},
   "source": [
    "### Imports "
   ]
  },
  {
   "cell_type": "markdown",
   "metadata": {},
   "source": [
    "For this project I suggest you use `skbio` to read sequences to align from FASTA files and `numpy` to make the dynamic programming matrix."
   ]
  },
  {
   "cell_type": "code",
   "execution_count": 1,
   "metadata": {
    "collapsed": false
   },
   "outputs": [
    {
     "name": "stderr",
     "output_type": "stream",
     "text": [
      "/Users/hrnmy/anaconda3/lib/python3.4/site-packages/pandas/computation/__init__.py:19: UserWarning: The installed version of numexpr 2.4.4 is not supported in pandas and will be not be used\n",
      "\n",
      "  UserWarning)\n"
     ]
    }
   ],
   "source": [
    "import skbio\n",
    "import numpy as np\n",
    "import pandas as pd"
   ]
  },
  {
   "cell_type": "markdown",
   "metadata": {},
   "source": [
    "### A Note about \"Tags\" "
   ]
  },
  {
   "cell_type": "markdown",
   "metadata": {},
   "source": [
    "In lecture on Friday (April 29) I described a scheme that would let us combine scores and traceback information in the dynamic programming algorithm into a single matrix of integers by adding 2-bit tags to each matrix entry.\n",
    "\n",
    "The project description in this notebook is based on this scheme, and the easiest way to complete this project is to fill in all the function definitions as described.\n",
    "\n",
    "You do not have to use this scheme, however.  If you'd prefer to use the traditional approach, with separate matrices for scores and tracebacks (or maybe an object-oriented approach, where the matrix is a matrix of objects that have score and direction attributes) you are free to do so.  If you want to create your own representations:\n",
    "* you can skip Part 2 (helper functions for tags)\n",
    "* you must complete Part 3 (`print_matrix` functions) but you can modify the definition of the function so it is passed the information in your representation, e.g. pass it separate score and traceback matrices\n",
    "* you are on your own for designing the code for the last two parts (creating the score matrix, following tracebacks to generate an alignment)\n",
    "* your `dp_matrix` function should return both score and traceback matrices; you will need to modify the unit tests so they work with your representation\n",
    "\n",
    "**Important:** &nbsp; If you do choose your own representation for scores and tracebacks fill in the following markdown cell to explain your representation and alert me so I give you back the points the autograder will deduct for skipping Part 2 and any modifications to unit tests."
   ]
  },
  {
   "cell_type": "markdown",
   "metadata": {},
   "source": [
    "In the end, made separate traceback matrix from dynamic programming matrix! all parts filled in, but dp_matrix returns two matrices. "
   ]
  },
  {
   "cell_type": "markdown",
   "metadata": {},
   "source": [
    "### Part 1: &nbsp; Substitution Matrix "
   ]
  },
  {
   "cell_type": "markdown",
   "metadata": {},
   "source": [
    "Below is the outline of a class named SubstitutionMatrix.  An object of this class will be a 2D matrix where coordinates are amino acid letters, and the values in the matrix are integers that are based on how similar the corresponding amino acids are.  Positive numbers represent a high similarity, and negative numbers mean low similarity.  \n",
    "\n",
    "When the constructor is called it should be passed the name of a file that has an amino acid substitution matrix in the format used by NCBI BLAST:\n",
    "* the file can have any number of comment lines (lines beginning with `#`); these are ignored\n",
    "* the first line contains a list of amino acid letters\n",
    "* the remaining lines have rows of the matrix\n",
    "\n",
    "Each row starts with an amino acid letter, and the rest of the row has matrix entries.  You need to scan these lines and use the location of a number within a line to figure out where to place it in the matrix.\n",
    "\n",
    "For example, suppose the list of letters on the first line starts like this:\n",
    "```\n",
    "   A  R  N  D ...\n",
    "```\n",
    "That tells you the first score in each row goes in the `A` column, the next in the `R` column, and so on.  When you read a row that looks like this:\n",
    "```\n",
    "R  -2  7  -1 -2 ...\n",
    "```\n",
    "you will set the entry for row R, column A to -2; row R, column R to 7, and so on.\n",
    "\n",
    "This example shows how to make a SubstitutionMatrix object based on the BLOSUM50 matrix, which is in a file with the same name (you can download the file from Canvas):\n",
    "```\n",
    ">>> m = SubstitutionMatrix('BLOSUM50')\n",
    "```\n",
    "\n",
    "You need to fill in the definition of the `__getitem__` method so it returns a score for a pair of letters.  For example, \n",
    "```\n",
    ">>> m['A','R']\n",
    "-2\n",
    "\n",
    ">>> m['R','R']\n",
    "7\n",
    "```\n",
    "\n",
    "You also need to fill in the bodies of the methods named `keys`, which returns a string containing the amino acid letters, and `similarity`, which returns a letter based on how similar two amino acids are.  A call to `m.similarity(X,Y)` returns `:` if X is the same as Y, `.` if the matrix entry is positive, and a space if the matrix entry is negative:\n",
    "```\n",
    ">>> m.keys()\n",
    "'ARNDCQEGHILKMFPSTWYVBZX*'\n",
    "\n",
    ">>> m.similarity('R','R')\n",
    "':'\n",
    "\n",
    ">>> m.similarity('D','E')\n",
    "'.'\n",
    "\n",
    ">>> m.similarity('D','W')\n",
    "' '\n",
    "```\n",
    "\n",
    "Two other methods are optional.  Fill in the `__repr__` method so it displays a matrix in readable form, similar to what it looks like in the file, and `description` so it prints the comments that were in the file.\n",
    "\n",
    "**Note:** &nbsp;  Even though this class is called a \"matrix\", and it looks and behaves like a 2D array, you can use any Python object to represent the data internally, including a dictionary."
   ]
  },
  {
   "cell_type": "markdown",
   "metadata": {},
   "source": [
    "##### Documentation and Code"
   ]
  },
  {
   "cell_type": "markdown",
   "metadata": {
    "collapsed": true,
    "deletable": false,
    "nbgrader": {
     "checksum": "7103575f8e9b9453d040a41feff341db",
     "grade": true,
     "grade_id": "subst_desc",
     "locked": false,
     "points": 5,
     "solution": true
    }
   },
   "source": [
    "With file open, if line is first line after comments, set that to keys to use for returning the keys in keys() function and also in making dictionary keys. Matrix is stored in a dictionary of dictionaries for each amino acid. After first line, create an empty dictionary for an amino acid 'a' and use python's zip function in order to go through each amino acid in keys and assign new key for amino acid 'b' and set value as score for 'a, b'.\n",
    "\n",
    "description also set by returning commented lines."
   ]
  },
  {
   "cell_type": "code",
   "execution_count": 2,
   "metadata": {
    "collapsed": false,
    "deletable": false,
    "nbgrader": {
     "checksum": "137f06ccbfb46ec0da78873dd15f3572",
     "grade": true,
     "grade_id": "subst_matrix",
     "locked": false,
     "points": 10,
     "solution": true
    }
   },
   "outputs": [],
   "source": [
    "class SubstitutionMatrix:\n",
    "    \n",
    "    def __init__(self, filename):\n",
    "        \n",
    "        data = open(filename).readlines()\n",
    "\n",
    "        self._matrix = {}\n",
    "        first = True\n",
    "        self._description = ''\n",
    "        self._keys = []\n",
    "\n",
    "        for line in data:\n",
    "            if not line.startswith('#'):\n",
    "                line = line.strip('/n/r').split()\n",
    "                if first:\n",
    "                    self._keys = line\n",
    "                    first = False\n",
    "                else: \n",
    "                    a = line[0]\n",
    "                    self._matrix[a] = {}\n",
    "                    for i, b in zip(self._keys, line[1:]):\n",
    "                        self._matrix[a][i] = b\n",
    "            else:\n",
    "                self._description += line[1:]\n",
    "\n",
    "    def __repr__(self):\n",
    "        # YOUR CODE HERE\n",
    "        return pd.DataFrame(self._matrix).to_string()\n",
    "    \n",
    "    def description(self):\n",
    "        # YOUR CODE HERE\n",
    "        print(self._description)\n",
    "    \n",
    "    def __getitem__(self, key):\n",
    "        # YOUR CODE HERE\n",
    "        ch1, ch2 = key\n",
    "        return int(self._matrix[ch1][ch2])\n",
    "    \n",
    "    def keys(self):\n",
    "        # YOUR CODE HERE\n",
    "        #keys = self.\n",
    "        return ''.join(self._keys)\n",
    "    \n",
    "    def similarity(self, ch1, ch2):\n",
    "        # YOUR CODE HERE\n",
    "        entry = int(self._matrix[ch1][ch2])\n",
    "        \n",
    "        if ch1 == ch2:\n",
    "            return ':'\n",
    "        elif entry < 0:\n",
    "            return ' '\n",
    "        else:\n",
    "            return '.'\n",
    "    "
   ]
  },
  {
   "cell_type": "code",
   "execution_count": 3,
   "metadata": {
    "collapsed": false
   },
   "outputs": [],
   "source": [
    "test = SubstitutionMatrix('GONNET')"
   ]
  },
  {
   "cell_type": "code",
   "execution_count": 4,
   "metadata": {
    "collapsed": false
   },
   "outputs": [
    {
     "data": {
      "text/plain": [
       "    *   A   C   D   E   F   G   H   I   K   L   M   N   P   Q   R   S   T   V   W   X   Y\n",
       "*   1  -8  -8  -8  -8  -8  -8  -8  -8  -8  -8  -8  -8  -8  -8  -8  -8  -8  -8  -8  -8  -8\n",
       "A  -8   2   0   0   0  -2   0  -1  -1   0  -1  -1   0   0   0  -1   1   1   0  -4   0  -2\n",
       "C  -8   0  12  -3  -3  -1  -2  -1  -1  -3  -2  -1  -2  -3  -2  -2   0   0   0  -1  -3   0\n",
       "D  -8   0  -3   5   3  -4   0   0  -4   0  -4  -3   2  -1   1   0   0   0  -3  -5  -1  -3\n",
       "E  -8   0  -3   3   4  -4  -1   0  -3   1  -3  -2   1   0   2   0   0   0  -2  -4  -1  -3\n",
       "F  -8  -2  -1  -4  -4   7  -5   0   1  -3   2   2  -3  -4  -3  -3  -3  -2   0   4  -2   5\n",
       "G  -8   0  -2   0  -1  -5   7  -1  -4  -1  -4  -4   0  -2  -1  -1   0  -1  -3  -4  -1  -4\n",
       "H  -8  -1  -1   0   0   0  -1   6  -2   1  -2  -1   1  -1   1   1   0   0  -2  -1  -1   2\n",
       "I  -8  -1  -1  -4  -3   1  -4  -2   4  -2   3   2  -3  -3  -2  -2  -2  -1   3  -2  -1  -1\n",
       "K  -8   0  -3   0   1  -3  -1   1  -2   3  -2  -1   1  -1   2   3   0   0  -2  -4  -1  -2\n",
       "L  -8  -1  -2  -4  -3   2  -4  -2   3  -2   4   3  -3  -2  -2  -2  -2  -1   2  -1  -1   0\n",
       "M  -8  -1  -1  -3  -2   2  -4  -1   2  -1   3   4  -2  -2  -1  -2  -1  -1   2  -1  -1   0\n",
       "N  -8   0  -2   2   1  -3   0   1  -3   1  -3  -2   4  -1   1   0   1   0  -2  -4   0  -1\n",
       "P  -8   0  -3  -1   0  -4  -2  -1  -3  -1  -2  -2  -1   8   0  -1   0   0  -2  -5  -1  -3\n",
       "Q  -8   0  -2   1   2  -3  -1   1  -2   2  -2  -1   1   0   3   2   0   0  -2  -3  -1  -2\n",
       "R  -8  -1  -2   0   0  -3  -1   1  -2   3  -2  -2   0  -1   2   5   0   0  -2  -2  -1  -2\n",
       "S  -8   1   0   0   0  -3   0   0  -2   0  -2  -1   1   0   0   0   2   2  -1  -3   0  -2\n",
       "T  -8   1   0   0   0  -2  -1   0  -1   0  -1  -1   0   0   0   0   2   2   0  -4   0  -2\n",
       "V  -8   0   0  -3  -2   0  -3  -2   3  -2   2   2  -2  -2  -2  -2  -1   0   3  -3  -1  -1\n",
       "W  -8  -4  -1  -5  -4   4  -4  -1  -2  -4  -1  -1  -4  -5  -3  -2  -3  -4  -3  14  -4   4\n",
       "X  -8   0  -3  -1  -1  -2  -1  -1  -1  -1  -1  -1   0  -1  -1  -1   0   0  -1  -4  -1  -2\n",
       "Y  -8  -2   0  -3  -3   5  -4   2  -1  -2   0   0  -1  -3  -2  -2  -2  -2  -1   4  -2   8"
      ]
     },
     "execution_count": 4,
     "metadata": {},
     "output_type": "execute_result"
    }
   ],
   "source": [
    "test"
   ]
  },
  {
   "cell_type": "markdown",
   "metadata": {},
   "source": [
    "##### Autograder Tests "
   ]
  },
  {
   "cell_type": "markdown",
   "metadata": {},
   "source": [
    "The autograder will run these tests in the order shown.  Feel free to use these tests yourself, but do not alter the cells or reorder them."
   ]
  },
  {
   "cell_type": "code",
   "execution_count": 4,
   "metadata": {
    "collapsed": false,
    "deletable": false,
    "nbgrader": {
     "checksum": "06df1dcff7447c9de75fc335f681a7eb",
     "grade": true,
     "grade_id": "subst_keys",
     "locked": true,
     "points": 2,
     "solution": false
    }
   },
   "outputs": [],
   "source": [
    "m = SubstitutionMatrix('GONNET')\n",
    "assert m.keys() == 'CSTPAGNDEQHRKMILVFYWX*'"
   ]
  },
  {
   "cell_type": "code",
   "execution_count": 5,
   "metadata": {
    "collapsed": false,
    "deletable": false,
    "nbgrader": {
     "checksum": "8e6ab23a28435f68d3c1560617000108",
     "grade": true,
     "grade_id": "subst_cc",
     "locked": true,
     "points": 2,
     "solution": false
    }
   },
   "outputs": [],
   "source": [
    "assert m['C','C'] == 12"
   ]
  },
  {
   "cell_type": "code",
   "execution_count": 6,
   "metadata": {
    "collapsed": false,
    "deletable": false,
    "nbgrader": {
     "checksum": "838a71dc0315e7934f5689382d077c8c",
     "grade": true,
     "grade_id": "subst_cq",
     "locked": true,
     "points": 2,
     "solution": false
    }
   },
   "outputs": [],
   "source": [
    "assert m['C','Q'] == -2"
   ]
  },
  {
   "cell_type": "code",
   "execution_count": 7,
   "metadata": {
    "collapsed": false,
    "deletable": false,
    "nbgrader": {
     "checksum": "f4f91f6a3af31d0d77ffe9d28ea29b45",
     "grade": true,
     "grade_id": "subst_sum",
     "locked": true,
     "points": 2,
     "solution": false
    }
   },
   "outputs": [],
   "source": [
    "assert sum([sum([m[ch1,ch2] for ch1 in m.keys()]) for ch2 in m.keys()]) == -659"
   ]
  },
  {
   "cell_type": "code",
   "execution_count": 8,
   "metadata": {
    "collapsed": false,
    "deletable": false,
    "nbgrader": {
     "checksum": "47bef25094c2f3f610f44c1f72ef64c0",
     "grade": true,
     "grade_id": "subst_sims",
     "locked": true,
     "points": 2,
     "solution": false
    }
   },
   "outputs": [],
   "source": [
    "assert m.similarity('A','A') + m.similarity('A','T') + m.similarity('A','W') == ':. '"
   ]
  },
  {
   "cell_type": "markdown",
   "metadata": {
    "collapsed": true
   },
   "source": [
    "### Part 2: &nbsp; Helper Functions"
   ]
  },
  {
   "cell_type": "markdown",
   "metadata": {},
   "source": [
    "Before you write the functions that create the dynamic programming matrix and follow the traceback to print the alignment you need to define some \"helper functions\".\n",
    "\n",
    "Here is a trick that will let you manage all the data in a single matrix instead of having separate matrices for scores and tracebacks.  Create a matrix of integers for scores, but before you put a score in the matrix add a 2-bit tag for the traceback.  If the tag is in the low order 2 bits you don't need to remove it when comparing matrix entries.\n",
    "\n",
    "Execute this code cell to define the constants used for tag values:"
   ]
  },
  {
   "cell_type": "code",
   "execution_count": 9,
   "metadata": {
    "collapsed": true
   },
   "outputs": [],
   "source": [
    "LEFT = 2\n",
    "UP = 1\n",
    "DIAG = LEFT + UP"
   ]
  },
  {
   "cell_type": "markdown",
   "metadata": {},
   "source": [
    "Fill in the bodies of the functions below.\n",
    "* pass `mark` a score and a tag, and it will return the tagged integer to add to the matrix\n",
    "* call `value` or `tag` to get the score or tag from a tagged matrix entry\n",
    "* `unpack` can be used in cases where both values are needed, to avoid having to make two function calls to get the value and tag from a tagged matrix entry\n",
    "\n",
    "Example:  the binary representation of 7 is `111`.  To put it in the matrix with an UP tag:\n",
    "```\n",
    ">>> mark(7, UP)\n",
    "29\n",
    "```\n",
    "\n",
    "If we write the return value in binary we'd see `11101`: the number 7 has been shifted over to make room for the tag, and the tag is in the low-order 2 bits.\n",
    "\n",
    "**Note:** &nbsp; No documentation is required for these functions."
   ]
  },
  {
   "cell_type": "code",
   "execution_count": 10,
   "metadata": {
    "collapsed": false,
    "deletable": false,
    "nbgrader": {
     "checksum": "3686e064894bcf3dcac561fdfc07c7e3",
     "grade": true,
     "grade_id": "helpers",
     "locked": false,
     "points": 5,
     "solution": true
    }
   },
   "outputs": [],
   "source": [
    "def mark(value, direction):\n",
    "    '''Combine value and direction into an integer to store in the dynamic programming matrix'''\n",
    "    # YOUR CODE HERE\n",
    "    x = (value << 2) | direction\n",
    "    return x\n",
    "\n",
    "def value(cell):\n",
    "    '''Return the value field of a matrix cell'''\n",
    "    # YOUR CODE HERE\n",
    "    val = cell >> 2\n",
    "    return val\n",
    "    \n",
    "def tag(cell):\n",
    "    '''Return the tag field of a matrix cell'''\n",
    "    # YOUR CODE HERE\n",
    "    direction = cell & 3\n",
    "    \n",
    "    return direction\n",
    "    \n",
    "def unpack(cell):\n",
    "    '''Return the value and tag fields from a matrix cell'''\n",
    "    # YOUR CODE HERE\n",
    "    return value(cell), tag(cell)"
   ]
  },
  {
   "cell_type": "code",
   "execution_count": 11,
   "metadata": {
    "collapsed": false
   },
   "outputs": [
    {
     "data": {
      "text/plain": [
       "29"
      ]
     },
     "execution_count": 11,
     "metadata": {},
     "output_type": "execute_result"
    }
   ],
   "source": [
    "mark(7, UP)"
   ]
  },
  {
   "cell_type": "code",
   "execution_count": 12,
   "metadata": {
    "collapsed": false
   },
   "outputs": [
    {
     "data": {
      "text/plain": [
       "3"
      ]
     },
     "execution_count": 12,
     "metadata": {},
     "output_type": "execute_result"
    }
   ],
   "source": [
    "DIAG"
   ]
  },
  {
   "cell_type": "code",
   "execution_count": 13,
   "metadata": {
    "collapsed": false
   },
   "outputs": [
    {
     "data": {
      "text/plain": [
       "1"
      ]
     },
     "execution_count": 13,
     "metadata": {},
     "output_type": "execute_result"
    }
   ],
   "source": [
    "tag(0b11101)"
   ]
  },
  {
   "cell_type": "code",
   "execution_count": 14,
   "metadata": {
    "collapsed": false
   },
   "outputs": [
    {
     "data": {
      "text/plain": [
       "(16, 3)"
      ]
     },
     "execution_count": 14,
     "metadata": {},
     "output_type": "execute_result"
    }
   ],
   "source": [
    "unpack(0b1000011)"
   ]
  },
  {
   "cell_type": "code",
   "execution_count": 15,
   "metadata": {
    "collapsed": false
   },
   "outputs": [
    {
     "data": {
      "text/plain": [
       "3"
      ]
     },
     "execution_count": 15,
     "metadata": {},
     "output_type": "execute_result"
    }
   ],
   "source": [
    "0b11"
   ]
  },
  {
   "cell_type": "code",
   "execution_count": 16,
   "metadata": {
    "collapsed": false
   },
   "outputs": [
    {
     "data": {
      "text/plain": [
       "-80"
      ]
     },
     "execution_count": 16,
     "metadata": {},
     "output_type": "execute_result"
    }
   ],
   "source": [
    "value(mark(-80, LEFT))"
   ]
  },
  {
   "cell_type": "code",
   "execution_count": 17,
   "metadata": {
    "collapsed": false,
    "deletable": false,
    "nbgrader": {
     "checksum": "11b4278596833aae4027fd7fc200ccb8",
     "grade": true,
     "grade_id": "mark_test",
     "locked": true,
     "points": 2,
     "solution": false
    }
   },
   "outputs": [],
   "source": [
    "assert mark(7, UP) == 0b11101\n",
    "assert mark(8, LEFT) == 0b100010 \n",
    "assert mark(16, DIAG) == 0b1000011"
   ]
  },
  {
   "cell_type": "code",
   "execution_count": 18,
   "metadata": {
    "collapsed": false,
    "deletable": false,
    "nbgrader": {
     "checksum": "0a0f39088fbe30896b5db7dd20943160",
     "grade": true,
     "grade_id": "unpack_test",
     "locked": true,
     "points": 3,
     "solution": false
    }
   },
   "outputs": [],
   "source": [
    "for score in [7, 8, 9]:\n",
    "    for direction in [UP, LEFT, DIAG]:\n",
    "        x = mark(score, direction)\n",
    "        assert value(x) == score\n",
    "        assert tag(x) == direction\n",
    "        assert unpack(x) == (score, direction)"
   ]
  },
  {
   "cell_type": "markdown",
   "metadata": {
    "collapsed": true
   },
   "source": [
    "### Part 3: &nbsp; Print Matrix"
   ]
  },
  {
   "cell_type": "markdown",
   "metadata": {},
   "source": [
    "Another helper function is one that will display the dynamic programming matrix, showing each cell value along with its direction tag (this project will also help you make sure your marking and unpacking functions are working).  \n",
    "\n",
    "Fill in the body of the `print_matrix` function below so it displays a matrix.  The only required argument is a matrix of integers.  Two optional arguments are strings to use for row and column labels.\n",
    "\n",
    "The easiest choice is to just print the rows, using a format similar to that shown in the lecture notes, but you can use Matplotlib or any other method.\n",
    "\n",
    "Example output (using the format shown in lecture notes, and assuming `m` is a dynamic programming matrix filled with tagged integers):\n",
    "```\n",
    ">>> print_matrix(m, 'MLS', 'MIW')\n",
    "\n",
    "    󠀠       󠀠  M    󠀠  I    󠀠  W \n",
    "   •   0  ↤  -8  ↤ -16  ↤ -24\n",
    "M  ↥  -8  ⇖   7  ↤  -1  ↤  -9\n",
    "L  ↥ -16  ↥  -1  ⇖   9  ↤   1\n",
    "S  ↥ -24  ↥  -9  ↥   1  ⇖   5\n",
    "```\n",
    "\n",
    "**Note:** &nbsp; No documentation is required for these functions."
   ]
  },
  {
   "cell_type": "code",
   "execution_count": 271,
   "metadata": {
    "collapsed": false,
    "deletable": false,
    "nbgrader": {
     "checksum": "e367c4dc4046bd4cd883ca65a7f3c6b4",
     "grade": true,
     "grade_id": "print_matrix",
     "locked": false,
     "points": 10,
     "solution": true
    }
   },
   "outputs": [],
   "source": [
    "# Uncomment one of the definitions below to define the symbols to print\n",
    "# for traceback directions (or define your own symbols)\n",
    "\n",
    "arrow = { UP: '↥', LEFT: '↤', DIAG: '⇖', 0: '•'}\n",
    "#arrow = { UP: '^', LEFT: '<', DIAG: '\\\\', 0: ' '}\n",
    "\n",
    "def print_matrix(m, t, S=None, T=None):\n",
    "    # YOUR CODE HERE\n",
    "    \n",
    "    for i,j in zip(m,t):\n",
    "        for h,k in zip(i,j):\n",
    "            val, tag = h, k\n",
    "            print(arrow[tag], val, '', end = '')\n",
    "        print('\\n')"
   ]
  },
  {
   "cell_type": "code",
   "execution_count": null,
   "metadata": {
    "collapsed": false
   },
   "outputs": [],
   "source": [
    "m"
   ]
  },
  {
   "cell_type": "code",
   "execution_count": 389,
   "metadata": {
    "collapsed": false
   },
   "outputs": [
    {
     "name": "stdout",
     "output_type": "stream",
     "text": [
      "• 0 ↤ -8 ↤ -16 ↤ -24 ↤ -32 ↤ -40 ↤ -48 ↤ -56 ↤ -64 ↤ -72 ↤ -80 \n",
      "\n",
      "↥ -8 ⇖ -2 ⇖ -9 ↤ -17 ↤ -25 ↤ -33 ↤ -41 ↤ -49 ↤ -57 ↤ -65 ↤ -73 \n",
      "\n",
      "↥ -16 ↥ -10 ⇖ -3 ⇖ -4 ↤ -12 ↤ -20 ↤ -28 ↤ -36 ↤ -44 ↤ -52 ↤ -60 \n",
      "\n",
      "↥ -24 ↥ -18 ↥ -11 ⇖ -6 ⇖ -7 ↤ -15 ⇖ -5 ↤ -13 ↤ -21 ↤ -29 ↤ -37 \n",
      "\n",
      "↥ -32 ⇖ -14 ⇖ -18 ⇖ -13 ⇖ -8 ⇖ -9 ↥ -13 ⇖ -7 ⇖ -3 ↤ -11 ↤ -19 \n",
      "\n",
      "↥ -40 ↥ -22 ⇖ -8 ↤ -16 ↥ -16 ⇖ -9 ⇖ -12 ↥ -15 ⇖ -7 ⇖ 3 ↤ -5 \n",
      "\n",
      "↥ -48 ↥ -30 ↥ -16 ⇖ -3 ↤ -11 ⇖ -11 ⇖ -12 ⇖ -12 ↥ -15 ↥ -5 ⇖ 2 \n",
      "\n",
      "↥ -56 ↥ -38 ↥ -24 ↥ -11 ⇖ -6 ⇖ -12 ⇖ -14 ⇖ -15 ⇖ -12 ⇖ -9 ⇖ 1 \n",
      "\n"
     ]
    }
   ],
   "source": [
    "print_matrix(D, T, 'AGK', 'FJAKL')"
   ]
  },
  {
   "cell_type": "markdown",
   "metadata": {},
   "source": [
    "##### Autograder Tests "
   ]
  },
  {
   "cell_type": "markdown",
   "metadata": {},
   "source": [
    "The autograder will run these three cells.  The first defines a small matrix and adds entries using the helper functions from the previous section, the next two call your `print_matrix` function.  Add additional test cells if you want, but make sure these three cells are here."
   ]
  },
  {
   "cell_type": "code",
   "execution_count": 23,
   "metadata": {
    "collapsed": false,
    "deletable": false,
    "nbgrader": {
     "checksum": "cbaf620d693f3b12f5473b288269d9e9",
     "grade": true,
     "grade_id": "print_test_setup",
     "locked": true,
     "points": 1,
     "solution": false
    }
   },
   "outputs": [],
   "source": [
    "seq1 = 'AB'\n",
    "seq2 = 'CD'\n",
    "m = np.zeros((len(seq1)+1, len(seq2)+1), dtype=np.int32)\n",
    "m[0,1] = m[0,2] = mark(0, LEFT)\n",
    "m[1,0] = m[2,0] = mark(0, UP)\n",
    "m[1,1] = mark(1, DIAG)\n",
    "m[1,2] = mark(2, DIAG)\n",
    "m[2,1] = mark(3, DIAG)\n",
    "m[2,2] = mark(4, DIAG)"
   ]
  },
  {
   "cell_type": "code",
   "execution_count": 24,
   "metadata": {
    "collapsed": false,
    "deletable": false,
    "nbgrader": {
     "checksum": "60eb6f581079601602860610db2b4f1d",
     "grade": true,
     "grade_id": "print_test_1",
     "locked": true,
     "points": 2,
     "solution": false
    }
   },
   "outputs": [
    {
     "name": "stdout",
     "output_type": "stream",
     "text": [
      "• 0 ↤ 0 ↤ 0 \n",
      "\n",
      "↥ 0 ⇖ 1 ⇖ 2 \n",
      "\n",
      "↥ 0 ⇖ 3 ⇖ 4 \n",
      "\n"
     ]
    }
   ],
   "source": [
    "print_matrix(m)"
   ]
  },
  {
   "cell_type": "code",
   "execution_count": 25,
   "metadata": {
    "collapsed": false,
    "deletable": false,
    "nbgrader": {
     "checksum": "adef8c1c4d4c47a18968bbe9b4a064de",
     "grade": true,
     "grade_id": "print_test_2",
     "locked": true,
     "points": 2,
     "solution": false
    }
   },
   "outputs": [
    {
     "name": "stdout",
     "output_type": "stream",
     "text": [
      "• 0 ↤ 0 ↤ 0 \n",
      "\n",
      "↥ 0 ⇖ 1 ⇖ 2 \n",
      "\n",
      "↥ 0 ⇖ 3 ⇖ 4 \n",
      "\n"
     ]
    }
   ],
   "source": [
    "print_matrix(m, seq1, seq2)"
   ]
  },
  {
   "cell_type": "markdown",
   "metadata": {
    "collapsed": true
   },
   "source": [
    "### Part 4: &nbsp; Dynamic Programming Matrix"
   ]
  },
  {
   "cell_type": "markdown",
   "metadata": {},
   "source": [
    "Fill in the body of the function below so it creates the dynamic programming matrix for the global alignment of two protein sequences.  The arguments passed to the function will be two sequences, `S` and `T`, a substition matrix, and a gap penalty.  Use the recurrence shown in lecture slides fill in the values of the matrix, and return the matrix as the value of the function call.\n",
    "\n",
    "**Note:** &nbsp; Do not assume `S` and `T` are strings.  The function might be passed Protein objects from skibo or other \"string-like\" objects. \n",
    "\n",
    "**Note:** &nbsp; If you are using an alternative representation that keeps traceback information in a separate matrix you can return both matrices.  You will need to modify the unit tests.  Make sure your documentation includes a description of your representation and how you tested it."
   ]
  },
  {
   "cell_type": "markdown",
   "metadata": {},
   "source": [
    "##### Documentation and Code"
   ]
  },
  {
   "cell_type": "markdown",
   "metadata": {
    "collapsed": true,
    "deletable": false,
    "nbgrader": {
     "checksum": "2614c49567e34066bda84cc78bced398",
     "grade": true,
     "grade_id": "dp_desc",
     "locked": false,
     "points": 5,
     "solution": true
    }
   },
   "source": [
    "Needleman-Wunsch algorithm. Generate two numpy arrays, one for the score and one for the traceback. Fill out each matrix simultaneously. For filling in core cells, loop through rows and columns and choose the max score from the upper cell, left cell, and diagonal cell. Tag according to the max chosen."
   ]
  },
  {
   "cell_type": "code",
   "execution_count": 159,
   "metadata": {
    "collapsed": false,
    "deletable": false,
    "nbgrader": {
     "checksum": "8f887b9656efb663e7fbda4c2e29959e",
     "grade": true,
     "grade_id": "dp_matrix",
     "locked": false,
     "points": 10,
     "solution": true
    }
   },
   "outputs": [],
   "source": [
    "def dp_matrix(S, T, score, gp):\n",
    "    # YOUR CODE HERE\n",
    "    seq1 = str(S)\n",
    "    seq2 = str(T)\n",
    "    \n",
    "    rows = len(seq1) + 1\n",
    "    cols = len(seq2) + 1\n",
    "    \n",
    "    D = np.zeros((rows, cols), dtype = np.int32)\n",
    "    T = np.zeros((rows, cols), dtype = np.int32)\n",
    "    \n",
    "    D[0][0] = 0\n",
    "    \n",
    "    for i in range(1, rows):\n",
    "        D[i][0] = D[i-1][0] - gp\n",
    "        T[i][0] = UP\n",
    "\n",
    "    for j in range(1, cols):\n",
    "        D[0][j] = D[0][j-1] - gp\n",
    "        T[0][j] = LEFT\n",
    "        \n",
    "    for i in range(1, rows):\n",
    "        for j in range(1, cols):\n",
    "            above = mark(D[i-1][j] - gp, UP)\n",
    "            left = mark(D[i][j-1] - gp, LEFT)\n",
    "            diag = mark(D[i-1][j-1] + score[seq1[i-1], seq2[j-1]], DIAG)\n",
    "            directions = [above, left, diag]\n",
    "            max_val = max(value(above), \n",
    "                          value(left), \n",
    "                          value(diag))\n",
    "            D[i][j] = max_val\n",
    "            \n",
    "            tags = [tag(i) for i in directions if value(i) == max_val][0]\n",
    "            T[i][j] = tags\n",
    "            \n",
    "    return D, T"
   ]
  },
  {
   "cell_type": "code",
   "execution_count": 124,
   "metadata": {
    "collapsed": false
   },
   "outputs": [
    {
     "data": {
      "text/plain": [
       "-318"
      ]
     },
     "execution_count": 124,
     "metadata": {},
     "output_type": "execute_result"
    }
   ],
   "source": [
    "mark(-80, LEFT)"
   ]
  },
  {
   "cell_type": "code",
   "execution_count": 312,
   "metadata": {
    "collapsed": false
   },
   "outputs": [],
   "source": [
    "D, T = dp_matrix(seq1, seq2, SubstitutionMatrix('BLOSUM50'), 8)"
   ]
  },
  {
   "cell_type": "code",
   "execution_count": 161,
   "metadata": {
    "collapsed": false
   },
   "outputs": [
    {
     "data": {
      "text/plain": [
       "array([[  0,  -8, -16, -24, -32, -40, -48, -56, -64, -72, -80],\n",
       "       [ -8,  -2,  -9, -17, -25, -33, -41, -49, -57, -65, -73],\n",
       "       [-16, -10,  -3,  -4, -12, -20, -28, -36, -44, -52, -60],\n",
       "       [-24, -18, -11,  -6,  -7, -15,  -5, -13, -21, -29, -37],\n",
       "       [-32, -14, -18, -13,  -8,  -9, -13,  -7,  -3, -11, -19],\n",
       "       [-40, -22,  -8, -16, -16,  -9, -12, -15,  -7,   3,  -5],\n",
       "       [-48, -30, -16,  -3, -11, -11, -12, -12, -15,  -5,   2],\n",
       "       [-56, -38, -24, -11,  -6, -12, -14, -15, -12,  -9,   1]], dtype=int32)"
      ]
     },
     "execution_count": 161,
     "metadata": {},
     "output_type": "execute_result"
    }
   ],
   "source": [
    "D"
   ]
  },
  {
   "cell_type": "code",
   "execution_count": 165,
   "metadata": {
    "collapsed": false
   },
   "outputs": [
    {
     "data": {
      "text/plain": [
       "array([[0, 2, 2, 2, 2, 2, 2, 2, 2, 2, 2],\n",
       "       [1, 3, 3, 2, 2, 2, 2, 2, 2, 2, 2],\n",
       "       [1, 1, 3, 3, 2, 2, 2, 2, 2, 2, 2],\n",
       "       [1, 1, 1, 3, 3, 2, 3, 2, 2, 2, 2],\n",
       "       [1, 3, 3, 3, 3, 3, 1, 3, 3, 2, 2],\n",
       "       [1, 1, 3, 2, 1, 3, 3, 1, 3, 3, 2],\n",
       "       [1, 1, 1, 3, 2, 3, 3, 3, 1, 1, 3],\n",
       "       [1, 1, 1, 1, 3, 3, 3, 3, 3, 3, 3]], dtype=int32)"
      ]
     },
     "execution_count": 165,
     "metadata": {},
     "output_type": "execute_result"
    }
   ],
   "source": [
    "T"
   ]
  },
  {
   "cell_type": "code",
   "execution_count": 327,
   "metadata": {
    "collapsed": false
   },
   "outputs": [
    {
     "name": "stdout",
     "output_type": "stream",
     "text": [
      "• 0 ↤ -8 ↤ -16 ↤ -24 ↤ -32 ↤ -40 ↤ -48 ↤ -56 ↤ -64 ↤ -72 ↤ -80 \n",
      "\n",
      "↥ -8 ⇖ -2 ⇖ -9 ↤ -17 ↤ -25 ↤ -33 ↤ -41 ↤ -49 ↤ -57 ↤ -65 ↤ -73 \n",
      "\n",
      "↥ -16 ↥ -10 ⇖ -3 ⇖ -4 ↤ -12 ↤ -20 ↤ -28 ↤ -36 ↤ -44 ↤ -52 ↤ -60 \n",
      "\n",
      "↥ -24 ↥ -18 ↥ -11 ⇖ -6 ⇖ -7 ↤ -15 ⇖ -5 ↤ -13 ↤ -21 ↤ -29 ↤ -37 \n",
      "\n",
      "↥ -32 ⇖ -14 ⇖ -18 ⇖ -13 ⇖ -8 ⇖ -9 ↥ -13 ⇖ -7 ⇖ -3 ↤ -11 ↤ -19 \n",
      "\n",
      "↥ -40 ↥ -22 ⇖ -8 ↤ -16 ↥ -16 ⇖ -9 ⇖ -12 ↥ -15 ⇖ -7 ⇖ 3 ↤ -5 \n",
      "\n",
      "↥ -48 ↥ -30 ↥ -16 ⇖ -3 ↤ -11 ⇖ -11 ⇖ -12 ⇖ -12 ↥ -15 ↥ -5 ⇖ 2 \n",
      "\n",
      "↥ -56 ↥ -38 ↥ -24 ↥ -11 ⇖ -6 ⇖ -12 ⇖ -14 ⇖ -15 ⇖ -12 ⇖ -9 ⇖ 1 \n",
      "\n"
     ]
    }
   ],
   "source": [
    "print_matrix(D, T)"
   ]
  },
  {
   "cell_type": "markdown",
   "metadata": {},
   "source": [
    "##### Autograder Tests "
   ]
  },
  {
   "cell_type": "markdown",
   "metadata": {},
   "source": [
    "For these tests, the first cell creates the two short strings used in the example in the lecture notes, and the second calls the `dp_matrix` function.  You can uncomment the third cell and execute it to make sure the matrix looks like the one in the notes.  The autograder will test to see if the matrix has the expected shape and that the last cell has the expected alignment score."
   ]
  },
  {
   "cell_type": "code",
   "execution_count": 338,
   "metadata": {
    "collapsed": false
   },
   "outputs": [],
   "source": [
    "from skbio import Protein\n",
    "\n",
    "seq1 = Protein('PAWHEAE')\n",
    "seq2 = Protein('HEAGAWGHEE')"
   ]
  },
  {
   "cell_type": "code",
   "execution_count": 387,
   "metadata": {
    "collapsed": true
   },
   "outputs": [],
   "source": [
    "D, T = dp_matrix(seq1, seq2, SubstitutionMatrix('BLOSUM50'), 8)"
   ]
  },
  {
   "cell_type": "code",
   "execution_count": 282,
   "metadata": {
    "collapsed": false
   },
   "outputs": [],
   "source": [
    "D = dp_matrix(seq1, seq2, SubstitutionMatrix('BLOSUM50'), 8)"
   ]
  },
  {
   "cell_type": "code",
   "execution_count": 388,
   "metadata": {
    "collapsed": false
   },
   "outputs": [
    {
     "name": "stdout",
     "output_type": "stream",
     "text": [
      "• 0 ↤ -8 ↤ -16 ↤ -24 ↤ -32 ↤ -40 ↤ -48 ↤ -56 ↤ -64 ↤ -72 ↤ -80 \n",
      "\n",
      "↥ -8 ⇖ -2 ⇖ -9 ↤ -17 ↤ -25 ↤ -33 ↤ -41 ↤ -49 ↤ -57 ↤ -65 ↤ -73 \n",
      "\n",
      "↥ -16 ↥ -10 ⇖ -3 ⇖ -4 ↤ -12 ↤ -20 ↤ -28 ↤ -36 ↤ -44 ↤ -52 ↤ -60 \n",
      "\n",
      "↥ -24 ↥ -18 ↥ -11 ⇖ -6 ⇖ -7 ↤ -15 ⇖ -5 ↤ -13 ↤ -21 ↤ -29 ↤ -37 \n",
      "\n",
      "↥ -32 ⇖ -14 ⇖ -18 ⇖ -13 ⇖ -8 ⇖ -9 ↥ -13 ⇖ -7 ⇖ -3 ↤ -11 ↤ -19 \n",
      "\n",
      "↥ -40 ↥ -22 ⇖ -8 ↤ -16 ↥ -16 ⇖ -9 ⇖ -12 ↥ -15 ⇖ -7 ⇖ 3 ↤ -5 \n",
      "\n",
      "↥ -48 ↥ -30 ↥ -16 ⇖ -3 ↤ -11 ⇖ -11 ⇖ -12 ⇖ -12 ↥ -15 ↥ -5 ⇖ 2 \n",
      "\n",
      "↥ -56 ↥ -38 ↥ -24 ↥ -11 ⇖ -6 ⇖ -12 ⇖ -14 ⇖ -15 ⇖ -12 ⇖ -9 ⇖ 1 \n",
      "\n"
     ]
    }
   ],
   "source": [
    "print_matrix(D, T, str(seq1), str(seq2))"
   ]
  },
  {
   "cell_type": "code",
   "execution_count": 283,
   "metadata": {
    "collapsed": false,
    "deletable": false,
    "nbgrader": {
     "checksum": "51d3b11df4d5ab45853da9dbd4a319f2",
     "grade": true,
     "grade_id": "dp_shape_test",
     "locked": true,
     "points": 3,
     "solution": false
    }
   },
   "outputs": [],
   "source": [
    "assert D.shape == (len(seq1)+1, len(seq2)+1)"
   ]
  },
  {
   "cell_type": "code",
   "execution_count": 166,
   "metadata": {
    "collapsed": false,
    "deletable": false,
    "nbgrader": {
     "checksum": "1f056b8e988a1d756a27aaccfb06d714",
     "grade": true,
     "grade_id": "dp_score_test",
     "locked": true,
     "points": 7,
     "solution": false
    }
   },
   "outputs": [],
   "source": [
    "assert D[len(seq1), len(seq2)] == 1"
   ]
  },
  {
   "cell_type": "code",
   "execution_count": null,
   "metadata": {
    "collapsed": true
   },
   "outputs": [],
   "source": [
    "# since separate matrix from traceback\n",
    "\n",
    "assert D[len(seq1), len(seq2)] == 1"
   ]
  },
  {
   "cell_type": "markdown",
   "metadata": {},
   "source": [
    "### Part 5: &nbsp; Traceback "
   ]
  },
  {
   "cell_type": "markdown",
   "metadata": {},
   "source": [
    "Fill in the body of the function below so it generates a set of alignment strings using the traceback information from the dynamic programming algorithm.  The arguments to the function are the matrix created by a call to `dp_matrix` and the two sequences.\n",
    "\n",
    "The function should return two strings, the aligned version of the first sequence and the aligned version of the second sequence.  Assuming D is the matrix created by aligning the sequences from the lecture notes:\n",
    "```\n",
    ">>> traceback(D, seq1, seq2)\n",
    "('HEAGAWGHE-E', '--P-AW-HEAE')\n",
    "```\n",
    "\n",
    "An optional third argument is the substitution matrix used to create the alignment.  If this argument is given the function should look up the similarity of pairs of aligned letters and return a third string based on these similarities:\n",
    "```\n",
    ">>> traceback(D, seq1, seq2, SubstitutionMatrix('BLOSUM50'))\n",
    "('HEAGAWGHE-E', '    :: :: :', '--P-AW-HEAE')\n",
    "```\n",
    "\n",
    "(note that the similarity character is a space if one of the alignments has a gap character)\n"
   ]
  },
  {
   "cell_type": "markdown",
   "metadata": {},
   "source": [
    "##### Documentation and Code"
   ]
  },
  {
   "cell_type": "markdown",
   "metadata": {
    "collapsed": true,
    "deletable": false,
    "nbgrader": {
     "checksum": "1095a2fb8509bfca3e9477c1b197ca07",
     "grade": true,
     "grade_id": "traceback_desc",
     "locked": false,
     "points": 5,
     "solution": true
    }
   },
   "source": [
    "Based on algorithm from IAB book. True while row or column are > 0, starting from bottom right corner of traceback matrix and following path towards D[0][0]. Function goes through matrix and if current cell is diagonal, take a letter from each sequence to alignment string and go up diagonally one cell. If current == left, add letter from sequence 2 and gap to sequence 1 and vice versa for if current == up.\n",
    "\n",
    "if scores is given, add a space if i or j is a gap '-' and get output from similarity function in SimilarityMatrix for two given sequences."
   ]
  },
  {
   "cell_type": "code",
   "execution_count": 419,
   "metadata": {
    "collapsed": true,
    "deletable": false,
    "nbgrader": {
     "checksum": "730282b04067d9028844e15dfe4b8ede",
     "grade": true,
     "grade_id": "traceback",
     "locked": false,
     "points": 10,
     "solution": true
    }
   },
   "outputs": [],
   "source": [
    "def traceback(matrix, S, T, scores=None):\n",
    "    # YOUR CODE HERE\n",
    "    vert = str(T)\n",
    "    horiz = str(S)\n",
    "    \n",
    "    S_align = ''\n",
    "    T_align = ''\n",
    "    \n",
    "    row = matrix.shape[0]-1\n",
    "    col = matrix.shape[1]-1\n",
    "    \n",
    "    while row > 0 or col > 0:\n",
    "        \n",
    "        curr = matrix[row][col]\n",
    "        \n",
    "        if curr == DIAG:\n",
    "            S_align += horiz[row-1]\n",
    "            T_align += vert[col-1]\n",
    "            row -= 1\n",
    "            col -= 1\n",
    "        elif curr == LEFT:\n",
    "            T_align += vert[col-1]\n",
    "            S_align += '-'\n",
    "            col -= 1\n",
    "        elif curr == UP:\n",
    "            S_align += horiz[row-1]\n",
    "            T_align += '-'\n",
    "            row -=1\n",
    "        \n",
    "    seq1 = ''.join(list(S_align)[::-1])\n",
    "    seq2 = ''.join(list(T_align)[::-1])\n",
    "    \n",
    "    alignment = ''\n",
    "    \n",
    "    if scores != None:\n",
    "        for i, j in zip(seq1, seq2):\n",
    "            if i == '-' or j == '-':\n",
    "                alignment += ' '\n",
    "            else:\n",
    "                alignment += scores.similarity(i, j)\n",
    "            \n",
    "        return seq1, alignment, seq2\n",
    "    else:\n",
    "        return seq1, seq2"
   ]
  },
  {
   "cell_type": "code",
   "execution_count": 420,
   "metadata": {
    "collapsed": false
   },
   "outputs": [
    {
     "data": {
      "text/plain": [
       "('-PA--W-HEAE', 'HEAGAWGHE-E')"
      ]
     },
     "execution_count": 420,
     "metadata": {},
     "output_type": "execute_result"
    }
   ],
   "source": [
    "traceback(T, seq1, seq2)"
   ]
  },
  {
   "cell_type": "markdown",
   "metadata": {},
   "source": [
    "##### Autograder Tests "
   ]
  },
  {
   "cell_type": "markdown",
   "metadata": {},
   "source": [
    "seq2 seems to come out right, seq1 comes out partially right...."
   ]
  },
  {
   "cell_type": "markdown",
   "metadata": {},
   "source": [
    "These tests use the same sequences defined for the `dp_matrix` test."
   ]
  },
  {
   "cell_type": "code",
   "execution_count": 342,
   "metadata": {
    "collapsed": true
   },
   "outputs": [],
   "source": [
    "D = dp_matrix(seq1, seq2, SubstitutionMatrix('BLOSUM50'), 8)"
   ]
  },
  {
   "cell_type": "code",
   "execution_count": null,
   "metadata": {
    "collapsed": false,
    "deletable": false,
    "nbgrader": {
     "checksum": "e0e364cda2de0c5eacbd936eb2f9942d",
     "grade": true,
     "grade_id": "trace_test_1",
     "locked": true,
     "points": 5,
     "solution": false
    }
   },
   "outputs": [],
   "source": [
    "assert traceback(D, seq1, seq2, SubstitutionMatrix('BLOSUM50')) == ('HEAGAWGHE-E', '    :: :: :', '--P-AW-HEAE')"
   ]
  },
  {
   "cell_type": "code",
   "execution_count": null,
   "metadata": {
    "collapsed": false,
    "deletable": false,
    "nbgrader": {
     "checksum": "9c57f85d57a9d79e3a4b2625bee9bcb2",
     "grade": true,
     "grade_id": "trace_test_2",
     "locked": true,
     "points": 5,
     "solution": false
    }
   },
   "outputs": [],
   "source": [
    "assert traceback(D, seq1, seq2) == ('HEAGAWGHE-E', '--P-AW-HEAE')"
   ]
  },
  {
   "cell_type": "markdown",
   "metadata": {},
   "source": [
    "### Experiments (Optional)"
   ]
  },
  {
   "cell_type": "markdown",
   "metadata": {},
   "source": [
    "The function below puts all the pieces together.  Call `align` with two sequences, a substitution matrix, and a gap penalty, and it will use the dynamic programming algorithm to align the sequences and print the results.  The return value will be the alignment score."
   ]
  },
  {
   "cell_type": "code",
   "execution_count": null,
   "metadata": {
    "collapsed": true
   },
   "outputs": [],
   "source": [
    "def align(seq1, seq2, scores, gp):\n",
    "    D = dp_matrix(seq1, seq2, scores, gp)\n",
    "    t,m,b = traceback(D, seq1, seq2, scores)\n",
    "    print(t)\n",
    "    print(m)\n",
    "    print(b)\n",
    "    return value(D[len(seq1),len(seq2)])"
   ]
  },
  {
   "cell_type": "markdown",
   "metadata": {},
   "source": [
    "If you want to test your functions on some longer sequences download the FASTA files from Canvas and save them in your project directory.\n",
    "\n",
    "Try doing the alignments with different substitution matrices and gap penalties to see if they have much of an effect."
   ]
  },
  {
   "cell_type": "markdown",
   "metadata": {},
   "source": [
    "##### Hemoglobin "
   ]
  },
  {
   "cell_type": "markdown",
   "metadata": {},
   "source": [
    "Hemoglobin transports oxygen in the blood stream and is highly conserved across all animals.  This small data set has one of the proteins used to form hemoglobin from four different animals (human, zebrafish, mouse, and chicken).  The alignment isn't very interesting, but the similarity string shows how similar the proteins are."
   ]
  },
  {
   "cell_type": "code",
   "execution_count": null,
   "metadata": {
    "collapsed": false
   },
   "outputs": [],
   "source": [
    "hemoglobin = list(skbio.read('hemoglobin.fasta', format='fasta'))"
   ]
  },
  {
   "cell_type": "code",
   "execution_count": null,
   "metadata": {
    "collapsed": false
   },
   "outputs": [],
   "source": [
    "for seq in hemoglobin:\n",
    "    print(seq.metadata['description'], 'length:', len(seq))"
   ]
  },
  {
   "cell_type": "code",
   "execution_count": null,
   "metadata": {
    "collapsed": false
   },
   "outputs": [],
   "source": [
    "align(hemoglobin[0], hemoglobin[1], SubstitutionMatrix('GONNET'), 8)"
   ]
  },
  {
   "cell_type": "markdown",
   "metadata": {
    "collapsed": false
   },
   "source": [
    "##### p53 "
   ]
  },
  {
   "cell_type": "markdown",
   "metadata": {},
   "source": [
    "P53 is a tumor supressor, also highly conserved.  This data set has proteins from human, mouse, and chimpanzee.  It's included as a \"stress test\" -- how well does your function work on two sequences that are each about 400 letters long?"
   ]
  },
  {
   "cell_type": "code",
   "execution_count": null,
   "metadata": {
    "collapsed": false
   },
   "outputs": [],
   "source": [
    "p53 = list(skbio.read('p53.fasta', format='fasta'))"
   ]
  },
  {
   "cell_type": "code",
   "execution_count": null,
   "metadata": {
    "collapsed": false
   },
   "outputs": [],
   "source": [
    "for seq in p53:\n",
    "    print(seq.metadata['description'], 'length:', len(seq))"
   ]
  },
  {
   "cell_type": "code",
   "execution_count": null,
   "metadata": {
    "collapsed": false
   },
   "outputs": [],
   "source": [
    "align(p53[0], p53[1], SubstitutionMatrix('GONNET'), 8)"
   ]
  },
  {
   "cell_type": "markdown",
   "metadata": {},
   "source": [
    "##### Histones "
   ]
  },
  {
   "cell_type": "markdown",
   "metadata": {},
   "source": [
    "This data set is from a site that has a database of groups of conserved proteins.  I downloaded a data set that has histone genes.  The data set doesn't include species information, but you can find that by looking up the IDs at ensembl.org (the prefix \"ENS\" in the sequence names signifies these IDs are from Ensembl, the European equivalent of NCBI).\n",
    "\n",
    "These sequences vary in length more than the previous data sets, so it will be interesting to see where the algorithm places the gaps."
   ]
  },
  {
   "cell_type": "code",
   "execution_count": null,
   "metadata": {
    "collapsed": false
   },
   "outputs": [],
   "source": [
    "h2 = list(skbio.read('histones.fasta', format='fasta'))"
   ]
  },
  {
   "cell_type": "code",
   "execution_count": null,
   "metadata": {
    "collapsed": false
   },
   "outputs": [],
   "source": [
    "align(h2[0], h2[5], SubstitutionMatrix('GONNET'), 8)"
   ]
  },
  {
   "cell_type": "markdown",
   "metadata": {},
   "source": [
    "### Extensions "
   ]
  },
  {
   "cell_type": "markdown",
   "metadata": {},
   "source": [
    "Here are some ideas for some ways to extend the project if you're interested."
   ]
  },
  {
   "cell_type": "markdown",
   "metadata": {},
   "source": [
    "Implement local alignment:  change the initial conditions on the left column and top row, change your function record the location of the maxium score, and have the traceback report the highest scoring local alignment."
   ]
  },
  {
   "cell_type": "markdown",
   "metadata": {},
   "source": [
    "Implement affine gap penalties, where there are separate costs for opening a gap and extending a gap."
   ]
  },
  {
   "cell_type": "code",
   "execution_count": null,
   "metadata": {
    "collapsed": true
   },
   "outputs": [],
   "source": []
  }
 ],
 "metadata": {
  "kernelspec": {
   "display_name": "Python 3",
   "language": "python",
   "name": "python3"
  },
  "language_info": {
   "codemirror_mode": {
    "name": "ipython",
    "version": 3
   },
   "file_extension": ".py",
   "mimetype": "text/x-python",
   "name": "python",
   "nbconvert_exporter": "python",
   "pygments_lexer": "ipython3",
   "version": "3.4.4"
  }
 },
 "nbformat": 4,
 "nbformat_minor": 0
}
