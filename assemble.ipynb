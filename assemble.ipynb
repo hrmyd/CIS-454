{
 "cells": [
  {
   "cell_type": "markdown",
   "metadata": {},
   "source": [
    "# Project 2: &nbsp; _k_-mer Analysis and de Bruijn Graphs"
   ]
  },
  {
   "cell_type": "markdown",
   "metadata": {},
   "source": [
    "##### Due Friday Apr 29"
   ]
  },
  {
   "cell_type": "markdown",
   "metadata": {},
   "source": [
    "If two or more people are working on this project enter each person's name here:\n",
    "* Name:\n",
    "* Name:\n",
    "* Name:"
   ]
  },
  {
   "cell_type": "markdown",
   "metadata": {},
   "source": [
    "### Preparation "
   ]
  },
  {
   "cell_type": "markdown",
   "metadata": {},
   "source": [
    "Download the paper by Compeau, Pevzner, and Tesler (\"How to apply de Bruijn graphs to genome assembly\")."
   ]
  },
  {
   "cell_type": "markdown",
   "metadata": {},
   "source": [
    "For this project I recommend `scikit-bio` for its Sequence class and an extension to `scipy` called APGL (Another Python Graph Library).  You are welcome to use alternatives, but if you do make sure you tell me which libraries you used and what I might need to do to install them."
   ]
  },
  {
   "cell_type": "code",
   "execution_count": 1,
   "metadata": {
    "collapsed": true
   },
   "outputs": [],
   "source": [
    "from skbio import io, Sequence"
   ]
  },
  {
   "cell_type": "code",
   "execution_count": 2,
   "metadata": {
    "collapsed": false
   },
   "outputs": [],
   "source": [
    "from scipy.sparse import lil_matrix\n",
    "from apgl.graph import SparseGraph, GeneralVertexList\n",
    "from collections import Counter\n",
    "import numpy as np"
   ]
  },
  {
   "cell_type": "markdown",
   "metadata": {},
   "source": [
    "Execute this code cell to import the PyPlot library and tell Jupyter to insert plots in the notebook:"
   ]
  },
  {
   "cell_type": "code",
   "execution_count": 3,
   "metadata": {
    "collapsed": true
   },
   "outputs": [],
   "source": [
    "import matplotlib.pyplot as plt\n",
    "from collections import defaultdict \n",
    "\n",
    "% matplotlib inline"
   ]
  },
  {
   "cell_type": "markdown",
   "metadata": {},
   "source": [
    "Execute these code cells to define the circular \"genome\" and set of five \"reads\" shown in Figure 3 of paper:"
   ]
  },
  {
   "cell_type": "code",
   "execution_count": 4,
   "metadata": {
    "collapsed": false
   },
   "outputs": [],
   "source": [
    "tiny_genome = Sequence('ATGGCGTGCA')"
   ]
  },
  {
   "cell_type": "code",
   "execution_count": 5,
   "metadata": {
    "collapsed": true
   },
   "outputs": [],
   "source": [
    "tiny_reads = [\n",
    "    Sequence('CGTGCAA'),\n",
    "    Sequence('TGCAATG'),\n",
    "    Sequence('ATGGCGT'),\n",
    "    Sequence('GGCGTGC'),\n",
    "    Sequence('CAATGGC'),\n",
    "]"
   ]
  },
  {
   "cell_type": "markdown",
   "metadata": {},
   "source": [
    "### Part 1: &nbsp; `kmers`"
   ]
  },
  {
   "cell_type": "markdown",
   "metadata": {},
   "source": [
    "Fill in the body of the function named `kmers` so the function returns all substrings of length _k_ found in a set of sequences.  When it is called we'll pass it a series of Sequence objects and an integer `k`; the function should return a dictionary where keys are _k_-mers found in the sequences and the number of times they were found.\n",
    "\n",
    "Example:\n",
    "```\n",
    ">>> kmers(tiny_reads, 3)\n",
    "{'AAT': 2,\n",
    " 'ATG': 3,\n",
    " ...\n",
    " 'TGG': 2}\n",
    "```\n",
    "\n",
    "You can write your own loop or use the `scikit-bio` method named `iter_kmers` to make the _k_-mers. "
   ]
  },
  {
   "cell_type": "markdown",
   "metadata": {},
   "source": [
    "##### Documentation and Code"
   ]
  },
  {
   "cell_type": "markdown",
   "metadata": {
    "deletable": false,
    "nbgrader": {
     "checksum": "ec32d7e36db2b3f5dd639545a5d2ad29",
     "grade": true,
     "grade_id": "kmer_doc",
     "locked": false,
     "points": 5,
     "solution": true
    }
   },
   "source": [
    "Use a sliding window to produce kmers of length k from the list of reads and then use the Counter object to create a dictionary of kmer counts."
   ]
  },
  {
   "cell_type": "code",
   "execution_count": 6,
   "metadata": {
    "collapsed": true,
    "deletable": false,
    "nbgrader": {
     "checksum": "9cbf0cc41d641b1fe48f871e1bdadb09",
     "grade": true,
     "grade_id": "kmer",
     "locked": false,
     "points": 10,
     "solution": true
    }
   },
   "outputs": [],
   "source": [
    "def kmers(reads, k):\n",
    "    \n",
    "    kmers = []\n",
    "    \n",
    "    for i in reads:\n",
    "        for j in range(len(i)+1-k):\n",
    "            kmers.append(str(i[j:j+k]))\n",
    "            \n",
    "    kmer_count = Counter(kmers)\n",
    "    \n",
    "    return kmer_count"
   ]
  },
  {
   "cell_type": "markdown",
   "metadata": {},
   "source": [
    "##### Autograder Tests "
   ]
  },
  {
   "cell_type": "markdown",
   "metadata": {},
   "source": [
    "The notebook grader will run these tests in the order shown.  You are welcome to run these tests, too, but be careful to run them in order (a good set of unit tests should run in any order but some of our tests will use data sets that take several seconds to create so we'll put the \"setup\" step in a separate cell)."
   ]
  },
  {
   "cell_type": "code",
   "execution_count": 7,
   "metadata": {
    "collapsed": false
   },
   "outputs": [],
   "source": [
    "tiny_kmers = kmers(tiny_reads, 3)"
   ]
  },
  {
   "cell_type": "code",
   "execution_count": 9,
   "metadata": {
    "collapsed": false,
    "deletable": false,
    "nbgrader": {
     "checksum": "7761178696157fb27eb4d330087199a7",
     "grade": true,
     "grade_id": "kmer_is_dict",
     "locked": true,
     "points": 1,
     "solution": false
    }
   },
   "outputs": [],
   "source": [
    "assert isinstance(tiny_kmers, dict)"
   ]
  },
  {
   "cell_type": "code",
   "execution_count": 10,
   "metadata": {
    "collapsed": false,
    "deletable": false,
    "nbgrader": {
     "checksum": "dcd26c9f580d50fd1047882daa7a41c5",
     "grade": true,
     "grade_id": "kmer_has_10",
     "locked": true,
     "points": 3,
     "solution": false
    }
   },
   "outputs": [],
   "source": [
    "assert len(tiny_kmers) == 10"
   ]
  },
  {
   "cell_type": "code",
   "execution_count": 11,
   "metadata": {
    "collapsed": true,
    "deletable": false,
    "nbgrader": {
     "checksum": "7842047ae4b4de220c377b0b2d293273",
     "grade": true,
     "grade_id": "kmer_known_3",
     "locked": true,
     "points": 3,
     "solution": false
    }
   },
   "outputs": [],
   "source": [
    "for kmer in ['ATG', 'TGG', 'CAA']:\n",
    "    assert kmer in tiny_kmers"
   ]
  },
  {
   "cell_type": "code",
   "execution_count": 12,
   "metadata": {
    "collapsed": false,
    "deletable": false,
    "nbgrader": {
     "checksum": "f740f7dbab91f17904e9b4bb9bf832d5",
     "grade": true,
     "grade_id": "kmer_sum",
     "locked": true,
     "points": 3,
     "solution": false
    }
   },
   "outputs": [],
   "source": [
    "assert sum(tiny_kmers.values()) == 25"
   ]
  },
  {
   "cell_type": "markdown",
   "metadata": {},
   "source": [
    "### Part 2: &nbsp; _k_-mer Spectrum "
   ]
  },
  {
   "cell_type": "markdown",
   "metadata": {},
   "source": [
    "Fill in the body of the function named `plot_spectrum` so it draws the _k_-mer spectrum for a set of sequences.  The argument passed to the function will be a dictionary like the one produced by a call to `kmers`, where keys are strings of length _k_ and values are the number of times that string was found.\n",
    "\n",
    "A spectrum is a plot that has _k_-mer frequency on the _x_ axis.  For any point _x_, the _y_ value is the number of _k_-mers that occur _x_ times.\n",
    "\n",
    "The easiest way to create a spectrum plot is to generate a histogram using the set of counts in the _k_-mer dictionary.  You can test your function on the _k_-mers of the \"tiny reads\" data set but the plot will be pretty boring.  5 _k_-mers appear 2 times, and 5 more appear 3 times, so the histogram will have two bars, one at _x_ = 2 and one at _x_ = 3, and both bars will top out at _y_ = 5.  Execute this code cell to see what that might look like:"
   ]
  },
  {
   "cell_type": "code",
   "execution_count": 12,
   "metadata": {
    "collapsed": false
   },
   "outputs": [
    {
     "data": {
      "text/html": [
       "<img src=\"http://www.cs.uoregon.edu/Classes/16S/cis454/graphics/lectures/spectrum.svg\"/>"
      ],
      "text/plain": [
       "<IPython.core.display.Image object>"
      ]
     },
     "execution_count": 12,
     "metadata": {},
     "output_type": "execute_result"
    }
   ],
   "source": [
    "from IPython.display import Image\n",
    "Image(url='http://www.cs.uoregon.edu/Classes/16S/cis454/graphics/lectures/spectrum.svg')"
   ]
  },
  {
   "cell_type": "markdown",
   "metadata": {},
   "source": [
    "##### Documentation and Code"
   ]
  },
  {
   "cell_type": "markdown",
   "metadata": {
    "deletable": false,
    "nbgrader": {
     "checksum": "f4bcab4b242bfea797427bea37ee1864",
     "grade": true,
     "grade_id": "spectrum_doc",
     "locked": false,
     "points": 5,
     "solution": true
    }
   },
   "source": [
    "Use histogram function of matplotlib to plot a histogram of kmer frequency"
   ]
  },
  {
   "cell_type": "code",
   "execution_count": 8,
   "metadata": {
    "collapsed": true,
    "deletable": false,
    "nbgrader": {
     "checksum": "e52b92d13e03585587eb5f4295fdca1b",
     "grade": true,
     "grade_id": "spectrum",
     "locked": false,
     "points": 5,
     "solution": true
    }
   },
   "outputs": [],
   "source": [
    "def plot_spectrum(kmers):\n",
    "    \n",
    "    frequency = sorted(list(kmers.values()))\n",
    "    \n",
    "    plt.hist(frequency, alpha = 1)\n",
    "    plt.margins(0.1)\n",
    "    plt.show()"
   ]
  },
  {
   "cell_type": "code",
   "execution_count": 10,
   "metadata": {
    "collapsed": false
   },
   "outputs": [
    {
     "data": {
      "image/png": "[encoded data removed]",
      "text/plain": [
       "<matplotlib.figure.Figure at 0x110baca20>"
      ]
     },
     "metadata": {},
     "output_type": "display_data"
    }
   ],
   "source": [
    "plot_spectrum(tiny_kmers)"
   ]
  },
  {
   "cell_type": "markdown",
   "metadata": {},
   "source": [
    "### Part 3: &nbsp; Plasmid Reads "
   ]
  },
  {
   "cell_type": "markdown",
   "metadata": {},
   "source": [
    "To get a better idea of what the _k_-mer spectrum from a set of Illumina reads looks like download the file named `ColE9-J.fastq` from Canvas.  This file has 2,500 reads, each 150bp, from an _E. coli_ plasmid named ColE9-J. \n",
    "\n",
    "For this part of the project you will generate a _k_-mer spectrum plot for this data set, using a value of _k_ that might be used by a genome assembler.\n",
    "\n",
    "Execute this code cell to make a list containing all 2,500 reads:"
   ]
  },
  {
   "cell_type": "code",
   "execution_count": 11,
   "metadata": {
    "collapsed": false
   },
   "outputs": [],
   "source": [
    "plasmid_reads = list(io.read('ColE9-J.fastq', format='fastq', variant='illumina1.8'))"
   ]
  },
  {
   "cell_type": "markdown",
   "metadata": {},
   "source": [
    "As an additional test of your `plot_spectrum` function I suggest making a plot that uses only a few of the reads (it takes over a minute to count _k_-mers of the full data set on my machine).  This code cell shows how to get 21-mer counts using the first 100 reads:"
   ]
  },
  {
   "cell_type": "code",
   "execution_count": 12,
   "metadata": {
    "collapsed": false
   },
   "outputs": [],
   "source": [
    "plasmid_kmers = kmers(plasmid_reads[:100], 21)"
   ]
  },
  {
   "cell_type": "code",
   "execution_count": 13,
   "metadata": {
    "collapsed": false,
    "scrolled": false
   },
   "outputs": [
    {
     "data": {
      "image/png": "[encoded data removed]",
      "text/plain": [
       "<matplotlib.figure.Figure at 0x112f5a550>"
      ]
     },
     "metadata": {},
     "output_type": "display_data"
    }
   ],
   "source": [
    "plot_spectrum(plasmid_kmers)"
   ]
  },
  {
   "cell_type": "markdown",
   "metadata": {},
   "source": [
    "##### Discussion "
   ]
  },
  {
   "cell_type": "markdown",
   "metadata": {},
   "source": [
    "When you are confident your _k_-mer counting and plotting functions are working as expected get a count of all 33-mers in the full data set and then make a spectrum plot.\n",
    "\n",
    "A crucial detail about this data set is that it comes from an experiment with **50x coverage**.  That means each fragment of the genome is expected to occur 50 times in the set of reads.\n",
    "\n",
    "Use the markdown cell below to describe your plot.  Some things you might include in your discussion:\n",
    "* can you explain the general shape of the distribution?  \n",
    "* what is the range of counts along the _x_-axis?\n",
    "* why are there so many _k_-mers with small counts?\n",
    "* why is there a maximum in the middle of the range?\n",
    "\n",
    "**Note:** &nbsp; Your discussion should be more than just a short answer to these 4 questions.  I want you to look at the distribution, consider why it has the shape it does, and what that implies about the data set.\n"
   ]
  },
  {
   "cell_type": "markdown",
   "metadata": {
    "deletable": false,
    "nbgrader": {
     "checksum": "c920b28cea0bb3720a031422c0386fc1",
     "grade": true,
     "grade_id": "discussion",
     "locked": false,
     "points": 10,
     "solution": true
    }
   },
   "source": [
    "General plot shape is kind of Gaussian, with a massive outlier of small k-mer counts. The high amount of coverage gives the distributation shape, so while none of the kmers had the same coverage as the fragments did, quite a few still had high coverage up to 30. This also explains the x-axis, from 0-30, close to the 50x coverage of the genome fragments. "
   ]
  },
  {
   "cell_type": "code",
   "execution_count": 14,
   "metadata": {
    "collapsed": false,
    "deletable": false,
    "nbgrader": {
     "checksum": "f40d1d4acab824b2b3634758ad24f8c1",
     "grade": true,
     "grade_id": "plasmid_kmers",
     "locked": false,
     "points": 5,
     "solution": true
    }
   },
   "outputs": [
    {
     "data": {
      "image/png": "[encoded data removed]",
      "text/plain": [
       "<matplotlib.figure.Figure at 0x11403e7b8>"
      ]
     },
     "metadata": {},
     "output_type": "display_data"
    }
   ],
   "source": [
    "plasmid_kmers_full = kmers(plasmid_reads, 33)\n",
    "\n",
    "plot_spectrum(plasmid_kmers_full)"
   ]
  },
  {
   "cell_type": "markdown",
   "metadata": {},
   "source": [
    "### Part 4: &nbsp; de Bruijn Graph"
   ]
  },
  {
   "cell_type": "markdown",
   "metadata": {},
   "source": [
    "The next part of the project is to write a Python function that creates a de Bruijn graph from a set of reads.  The arguments passed to this function are the same as those passed to `kmers`: a list of reads and a value for _k_.\n",
    "\n",
    "The function should return two objects:\n",
    "* a sparse directed graph where the vertices are the (_k_-1)-mers in the reads and the edges are _k_-mers\n",
    "* a list of all the vertex strings\n",
    "\n",
    "The easiest way to build a graph for this project is to use the SparseGraph class from the APGL module.  I **_strongly_** recommend you build yourself a \"sandbox\" to play with this class before working on this project:  create a new notebook, import APGL, create some graphs, learn how to add and remove edges, _etc_.  (Hint: brush up on set operations, as well, and in particular learn how to use \"set comprehension\" to create a set.)\n",
    "\n",
    "Here is a suggested outline for your function:\n",
    "* since we need to know how many nodes are in the graph when the SparseGraph object is created use a \"two-pass\" algorithm\n",
    "* first create the list of vertex strings:\n",
    "    * create an empty set\n",
    "    * iterate over all the _k_-mers, and add the prefix (first _k_-1 letters) to the set\n",
    "    * build the vertex list from the set\n",
    "* you'll want a dictionary that associates a node name with the corresponding node number (since graph nodes in APGL are integers)\n",
    "* iterate over the _k_-mers again, this time adding edges to the graph:\n",
    "    * for each _k_-mer, add an edge $ u \\rightarrow v $ where $u$ is the node number for the prefix and $v$ is the node number for the suffix (where \"prefix\" and \"suffix\" refer the to first _k_-1 and last _k_-1 characters)."
   ]
  },
  {
   "cell_type": "markdown",
   "metadata": {},
   "source": [
    "Here is the de Bruijn graph for the \"tiny\" genome:\n",
    "```\n",
    ">>> tiny_graph, tiny_vertices = deBruijn(tiny_reads, 3)\n",
    "\n",
    ">>> tiny_vertices\n",
    "['CG', 'CA', 'GT', 'AA', 'GG', 'GC', 'AT', 'TG']\n",
    "\n",
    ">>> tiny_graph.getAllEdges()\n",
    "array([[0, 2],\n",
    "       [1, 3],\n",
    "       [2, 7],\n",
    "       [3, 6],\n",
    "       [4, 5],\n",
    "       [5, 0],\n",
    "       [5, 1],\n",
    "       [6, 7],\n",
    "       [7, 4],\n",
    "       [7, 5]], dtype=int32)\n",
    "```\n",
    "Your vertex list might have a different order, but you should see the same strings.  Verify all the edges from the Compeau paper are in the graph.  For example, in this list there are edges `[7, 4]` and `[7, 5]`.  Looking at the vertex list we can see these are the edges `\"TG\" ⟼ \"GG\"` and `\"TG\" ⟼ \"GC\"` in the figure."
   ]
  },
  {
   "cell_type": "markdown",
   "metadata": {},
   "source": [
    "##### Documentation and Code"
   ]
  },
  {
   "cell_type": "markdown",
   "metadata": {
    "deletable": false,
    "nbgrader": {
     "checksum": "87f5569a066fd224f8d207ee0610cb92",
     "grade": true,
     "grade_id": "de_bruijn_doc",
     "locked": false,
     "points": 5,
     "solution": true
    }
   },
   "source": [
    "use kmers function to create a list of kmers, then using set comprehension find all the prefixes/vertices and then make a list from that. Create a directed SparseGraph object and set vertices to relate each prefix to an int index than can be called later. Then, iterate over kmers again to add the edges to the graph."
   ]
  },
  {
   "cell_type": "code",
   "execution_count": 77,
   "metadata": {
    "collapsed": true,
    "deletable": false,
    "nbgrader": {
     "checksum": "1247111636b02c1220562aa6dfde7156",
     "grade": true,
     "grade_id": "de_bruijn",
     "locked": false,
     "points": 10,
     "solution": true
    }
   },
   "outputs": [],
   "source": [
    "def deBruijn(reads, k):\n",
    "    kmers_count = kmers(reads, k)\n",
    "    \n",
    "    vertices_set = {i[:k-1] for i in kmers_count}\n",
    "    vertices_list = list(vertices_set)\n",
    "    \n",
    "    graph = SparseGraph(len(vertices_list), undirected = False)\n",
    "    graph.setVertices(range(len(vertices_list)), vertices_list)\n",
    "    \n",
    "    str_to_int = {graph.getVertex(i): i for i in range(graph.size)}\n",
    "    \n",
    "    for i in kmers_count:\n",
    "        prefix = str_to_int[i[-k+1:]]\n",
    "        suffix = str_to_int[i[:k-1]]\n",
    "        graph.addEdge(suffix, prefix)\n",
    "        \n",
    "    return graph, vertices_list"
   ]
  },
  {
   "cell_type": "code",
   "execution_count": 92,
   "metadata": {
    "collapsed": false
   },
   "outputs": [
    {
     "data": {
      "text/plain": [
       "array([[0, 6],\n",
       "       [1, 7],\n",
       "       [2, 0],\n",
       "       [2, 3],\n",
       "       [3, 1],\n",
       "       [4, 2],\n",
       "       [5, 2],\n",
       "       [5, 4],\n",
       "       [6, 5],\n",
       "       [7, 5]], dtype=int32)"
      ]
     },
     "execution_count": 92,
     "metadata": {},
     "output_type": "execute_result"
    }
   ],
   "source": [
    "tiny_graph.getAllEdges()"
   ]
  },
  {
   "cell_type": "code",
   "execution_count": 93,
   "metadata": {
    "collapsed": false
   },
   "outputs": [
    {
     "data": {
      "text/plain": [
       "['CG', 'AA', 'GC', 'CA', 'GG', 'TG', 'GT', 'AT']"
      ]
     },
     "execution_count": 93,
     "metadata": {},
     "output_type": "execute_result"
    }
   ],
   "source": [
    "tiny_graph.getVertices(range(len(tiny_vertices)))"
   ]
  },
  {
   "cell_type": "code",
   "execution_count": 94,
   "metadata": {
    "collapsed": false
   },
   "outputs": [
    {
     "data": {
      "text/plain": [
       "{'AA': 1, 'AT': 7, 'CA': 3, 'CG': 0, 'GC': 2, 'GG': 4, 'GT': 6, 'TG': 5}"
      ]
     },
     "execution_count": 94,
     "metadata": {},
     "output_type": "execute_result"
    }
   ],
   "source": [
    "{tiny_graph.getVertex(i): i for i in range(tiny_graph.size)}"
   ]
  },
  {
   "cell_type": "markdown",
   "metadata": {},
   "source": [
    "##### Autograder Tests "
   ]
  },
  {
   "cell_type": "markdown",
   "metadata": {},
   "source": [
    "The notebook grader will run these tests in the order shown.  You are welcome to run these tests, too, but be careful to run them in order."
   ]
  },
  {
   "cell_type": "code",
   "execution_count": 276,
   "metadata": {
    "collapsed": false,
    "scrolled": true
   },
   "outputs": [
    {
     "name": "stderr",
     "output_type": "stream",
     "text": [
      "/Users/hrnmy/anaconda3/lib/python3.4/site-packages/scipy/sparse/compressed.py:730: SparseEfficiencyWarning: Changing the sparsity structure of a csr_matrix is expensive. lil_matrix is more efficient.\n",
      "  SparseEfficiencyWarning)\n"
     ]
    }
   ],
   "source": [
    "tiny_graph, tiny_vertices = deBruijn(tiny_reads, 3)"
   ]
  },
  {
   "cell_type": "code",
   "execution_count": 152,
   "metadata": {
    "collapsed": false,
    "deletable": false,
    "nbgrader": {
     "checksum": "ca4672a7e56a852de12cce22bdaf865f",
     "grade": true,
     "grade_id": "vertex_list",
     "locked": true,
     "points": 5,
     "solution": false
    }
   },
   "outputs": [],
   "source": [
    "assert len(tiny_vertices) == 8"
   ]
  },
  {
   "cell_type": "code",
   "execution_count": 226,
   "metadata": {
    "collapsed": false,
    "deletable": false,
    "nbgrader": {
     "checksum": "9e547eda7e8ae034eaf6c6daa3b34d0e",
     "grade": true,
     "grade_id": "edge_list",
     "locked": true,
     "points": 5,
     "solution": false
    }
   },
   "outputs": [],
   "source": [
    "assert len(tiny_graph.getAllEdges()) == 10"
   ]
  },
  {
   "cell_type": "markdown",
   "metadata": {},
   "source": [
    "### Part 5: &nbsp; Eulerian Path "
   ]
  },
  {
   "cell_type": "markdown",
   "metadata": {},
   "source": [
    "The final part of the project is the function that traverses a de Bruijn graph to produce an assembled sequence.  Fill in the body of the function named `path`.  It takes a graph and its vertex list as arguments and returns a list of nodes on an Eulerian circuit of the graph.\n",
    "\n",
    "Here is an algorithm that isn't very intuitive but is easy to implement:\n",
    "1. intitialize two empty lists, `circuit` (which will be the path) and `stack` (as its name implies, it will be a stack of node numbers)\n",
    "2. pick any node as a starting place; call it the \"current node\"\n",
    "3. repeat the following steps:\n",
    "   - get a list of the successors (outgoing edges) of the current node\n",
    "   - if the successor list is empty:\n",
    "      * if the stack is empty the algorithm terminates\n",
    "      * otherwise add the current node to the circuit\n",
    "      * pop a node from the stack, and make it the current node\n",
    "   - otherwise (the successor list is not empty):\n",
    "      * choose a succcessor node from the list\n",
    "      * remove the edge from the current node to the sucessor\n",
    "      * push the current node on the stack\n",
    "      * make the successor the current node"
   ]
  },
  {
   "cell_type": "markdown",
   "metadata": {},
   "source": [
    "A detail: when you add a node to the circuit, if you append the node, the final list will be in reverse order; either reverse the list before you return it, or instead of appending, insert the node at the front of the circuit.\n",
    "\n",
    "You should see something like this when you look for a path in the example graph (`tiny_graph` and `tiny_vertices` are the object returned from the graph building function):\n",
    "```\n",
    ">>> path(tiny_graph, tiny_vertices)\n",
    "[2, 7, 4, 5, 1, 3, 6, 7, 5, 0]\n",
    "```\n",
    "(but again your node numbers might be different)"
   ]
  },
  {
   "cell_type": "markdown",
   "metadata": {},
   "source": [
    "** Challenge:** &nbsp; Can you alter the algorithm so that instead of returning a list of nodes it returns the string of characters in the assembled genome?\n",
    "```\n",
    ">>> path(tiny_graph, tiny_vertices)\n",
    "'GTGGCAATGC'\n",
    "```"
   ]
  },
  {
   "cell_type": "markdown",
   "metadata": {},
   "source": [
    "##### Documentation and Code"
   ]
  },
  {
   "cell_type": "markdown",
   "metadata": {
    "deletable": false,
    "nbgrader": {
     "checksum": "0d4a6a7e87dd2285998fdc71e7a75001",
     "grade": true,
     "grade_id": "path_doc",
     "locked": false,
     "points": 5,
     "solution": true
    }
   },
   "source": [
    "Using algorithm in notebook, keep while loop while the length of the stack is not equal to the number of edges in the graph, then use SparseGraphs.neighbours to make a list of connecting vertices, and loop through successors if not emtpy and if it is, add current_node to the circuit and set a new current_node"
   ]
  },
  {
   "cell_type": "code",
   "execution_count": 283,
   "metadata": {
    "collapsed": false,
    "deletable": false,
    "nbgrader": {
     "checksum": "9e4360ab740fd6b49fc515190c1ca7f1",
     "grade": true,
     "grade_id": "path",
     "locked": false,
     "points": 10,
     "solution": true
    }
   },
   "outputs": [],
   "source": [
    "def path(graph, vertices, start = 0):\n",
    "    \n",
    "    circuit = []\n",
    "    stack = []\n",
    "    \n",
    "    current_node = start\n",
    "    \n",
    "    while len(stack) != graph.getNumEdges():\n",
    "        successors = list(graph.neighbours(current_node))\n",
    "\n",
    "        if not successors:\n",
    "            if not stack: \n",
    "                break\n",
    "            else:\n",
    "                circuit.insert(0, current_node)\n",
    "                current_node = stack.pop(0)\n",
    "        else:\n",
    "            successor = successors[0]\n",
    "            graph.removeEdge(current_node, successor)\n",
    "            stack.append(current_node)\n",
    "            current_node = successor\n",
    "    \n",
    "    string_rep = ''.join([graph.getVertex(i)[:1] for i in circuit])\n",
    "    \n",
    "    return string_rep"
   ]
  },
  {
   "cell_type": "code",
   "execution_count": 284,
   "metadata": {
    "collapsed": false
   },
   "outputs": [
    {
     "name": "stderr",
     "output_type": "stream",
     "text": [
      "/Users/hrnmy/anaconda3/lib/python3.4/site-packages/scipy/sparse/compressed.py:730: SparseEfficiencyWarning: Changing the sparsity structure of a csr_matrix is expensive. lil_matrix is more efficient.\n",
      "  SparseEfficiencyWarning)\n"
     ]
    }
   ],
   "source": [
    "graph_1, vert_1 = deBruijn(tiny_reads, 3)"
   ]
  },
  {
   "cell_type": "code",
   "execution_count": 285,
   "metadata": {
    "collapsed": false,
    "scrolled": true
   },
   "outputs": [],
   "source": [
    "test = path(graph_1, vert_1)"
   ]
  },
  {
   "cell_type": "code",
   "execution_count": 286,
   "metadata": {
    "collapsed": false
   },
   "outputs": [
    {
     "data": {
      "text/plain": [
       "10"
      ]
     },
     "execution_count": 286,
     "metadata": {},
     "output_type": "execute_result"
    }
   ],
   "source": [
    "len(test)"
   ]
  },
  {
   "cell_type": "code",
   "execution_count": 216,
   "metadata": {
    "collapsed": false
   },
   "outputs": [],
   "source": [
    "for i in graph_2.getAllEdges():\n",
    "    print(i)"
   ]
  },
  {
   "cell_type": "code",
   "execution_count": 121,
   "metadata": {
    "collapsed": false
   },
   "outputs": [
    {
     "data": {
      "text/plain": [
       "array([[0, 6],\n",
       "       [1, 7],\n",
       "       [2, 0],\n",
       "       [2, 3],\n",
       "       [3, 1],\n",
       "       [4, 2],\n",
       "       [5, 2],\n",
       "       [5, 4],\n",
       "       [6, 5],\n",
       "       [7, 5]], dtype=int32)"
      ]
     },
     "execution_count": 121,
     "metadata": {},
     "output_type": "execute_result"
    }
   ],
   "source": [
    "graph_2.getAllDirEdges()"
   ]
  },
  {
   "cell_type": "code",
   "execution_count": 127,
   "metadata": {
    "collapsed": false
   },
   "outputs": [
    {
     "data": {
      "text/plain": [
       "[2, 4]"
      ]
     },
     "execution_count": 127,
     "metadata": {},
     "output_type": "execute_result"
    }
   ],
   "source": [
    "list(graph_2.neighbours(5))"
   ]
  },
  {
   "cell_type": "markdown",
   "metadata": {},
   "source": [
    "##### Autograder Tests "
   ]
  },
  {
   "cell_type": "markdown",
   "metadata": {},
   "source": [
    "The notebook grader will run these tests in the order shown.  You are welcome to run these tests, too, but be careful to run them in order."
   ]
  },
  {
   "cell_type": "code",
   "execution_count": 277,
   "metadata": {
    "collapsed": false
   },
   "outputs": [],
   "source": [
    "p = path(tiny_graph, tiny_vertices)"
   ]
  },
  {
   "cell_type": "code",
   "execution_count": 278,
   "metadata": {
    "collapsed": false,
    "deletable": false,
    "nbgrader": {
     "checksum": "5cfb5ab39b080d81b8ffb2957ddee238",
     "grade": true,
     "grade_id": "path_length",
     "locked": true,
     "points": 5,
     "solution": false
    }
   },
   "outputs": [],
   "source": [
    "assert len(p) == len(tiny_genome)"
   ]
  },
  {
   "cell_type": "code",
   "execution_count": 266,
   "metadata": {
    "collapsed": false,
    "deletable": false,
    "nbgrader": {
     "checksum": "5fce113982b59076876a4b7557ff1289",
     "grade": true,
     "grade_id": "print_path",
     "locked": true,
     "points": 5,
     "solution": false
    }
   },
   "outputs": [
    {
     "name": "stdout",
     "output_type": "stream",
     "text": [
      "\n"
     ]
    }
   ],
   "source": [
    "print(p)"
   ]
  },
  {
   "cell_type": "markdown",
   "metadata": {},
   "source": [
    "### To Learn More"
   ]
  },
  {
   "cell_type": "markdown",
   "metadata": {},
   "source": [
    "Here are some ideas for optional projects if you want to keep on exploring genome assembly."
   ]
  },
  {
   "cell_type": "markdown",
   "metadata": {},
   "source": [
    "If you want to create your own set of reads (e.g. to increase the coverage, or to make reads for a different genome) download and run Art.  Here is the command I used to make our data set:\n",
    "```\n",
    "$ art_illumina -i ColE9-J.fasta -l 150 -ss HS25 -f 50 -o ColE9-J\n",
    "```\n",
    "Note: before I ran that command, I copied the first line of the FASTA file and appended it at the end so ART would have a chance to generate \"wraparound\" reads."
   ]
  },
  {
   "cell_type": "markdown",
   "metadata": {},
   "source": [
    "Read about a program named KmerGenie (Chikhi and Medvedev, _Bioinformatics_, 2013) that analyzes a set of reads to estimate the best _k_-mer size to pass to an assember.  What does KmerGenie suggest for our plasmid data?"
   ]
  },
  {
   "cell_type": "markdown",
   "metadata": {},
   "source": [
    "Draw your de Bruijn graph with `graphviz`.  Figure out how to run `graphviz` from a Jupyter notebook and embed the graphs in the notebook."
   ]
  },
  {
   "cell_type": "markdown",
   "metadata": {
    "collapsed": true
   },
   "source": [
    "If you're really daring, see what kind of de Bruijn graph you can make from the plasmid reads. Filter out the rare _k_-mers (why?) and build a graph from the rest.  Can you make repeated calls to the `path` function to get contigs? "
   ]
  },
  {
   "cell_type": "markdown",
   "metadata": {},
   "source": [
    "Copy the plasmid reads to ACISS and try to assemble the genome using Velvet or one of the other genome assembly programs installed there."
   ]
  },
  {
   "cell_type": "code",
   "execution_count": null,
   "metadata": {
    "collapsed": true
   },
   "outputs": [],
   "source": []
  }
 ],
 "metadata": {
  "kernelspec": {
   "display_name": "Python 3",
   "language": "python",
   "name": "python3"
  },
  "language_info": {
   "codemirror_mode": {
    "name": "ipython",
    "version": 3
   },
   "file_extension": ".py",
   "mimetype": "text/x-python",
   "name": "python",
   "nbconvert_exporter": "python",
   "pygments_lexer": "ipython3",
   "version": "3.4.4"
  }
 },
 "nbformat": 4,
 "nbformat_minor": 0
}
