{
 "cells": [
  {
   "cell_type": "markdown",
   "metadata": {},
   "source": [
    "#  Project 1:  Genbank Annotation Files"
   ]
  },
  {
   "cell_type": "markdown",
   "metadata": {},
   "source": [
    "##### Due Friday Apr 15 "
   ]
  },
  {
   "cell_type": "markdown",
   "metadata": {},
   "source": [
    "If two or more people are working on this project enter each person's name here:\n",
    "* Name:\n",
    "* Name:\n",
    "* Name:"
   ]
  },
  {
   "cell_type": "markdown",
   "metadata": {},
   "source": [
    "For each section of the project enter your answers in the appropriate notebook cells.  Save the notebook and submit the completed assignment through Canvas."
   ]
  },
  {
   "cell_type": "markdown",
   "metadata": {},
   "source": [
    "### Preparation "
   ]
  },
  {
   "cell_type": "markdown",
   "metadata": {},
   "source": [
    "The goal for this project is to explore data available from the National Center for Biotechnogy Information (NCBI).  You will download the complete genome sequence for a species of bacteria and use Python to search for data in the genome.\n",
    "\n",
    "You will need the [Biopython](http://biopython.org) library.  It's easy to install with `pip`:\n",
    "```\n",
    "pip install biopython\n",
    "```\n",
    "(Mac/Linux users: if you're not using Anaconda type `pip3` to install for `python3`)\n",
    "\n",
    "You will also need a shell command that downloads a file. In this document I use `wget` but you can use `curl` or any other utility you have installed on your system."
   ]
  },
  {
   "cell_type": "markdown",
   "metadata": {},
   "source": [
    "### Warmup "
   ]
  },
  {
   "cell_type": "markdown",
   "metadata": {},
   "source": [
    "Before you start this project take some time to familiarize yourself with the NCBI web site.  It's a huge site, but it's worth learning where to find documentation and \"how-tos\" in addition to the main data sources.\n",
    "\n",
    "The home page is [http://www.ncbi.nlm.nih.gov](http://www.ncbi.nlm.nih.gov).\n",
    "\n",
    "To see what sorts of full-genome data are available click Genome from the list of \"popular resources\" on the right side of the page, then click Microbes and explore a little bit.  The terminology will be overwhelming to non-experts but you should get a sense of how the site is organized.\n",
    "\n",
    "**Note:** &nbsp; Later in the term, if your group needs to download data from NCBI, you'll want to learn about \"eutils\", the web service API that allows you to access data programatically.  Here's a link to a \"how to\" guide that gives a quick overview:  [How to: Download a large, custom set of records from NCBI](https://www.ncbi.nlm.nih.gov/guide/howto/dwn-records/)"
   ]
  },
  {
   "cell_type": "markdown",
   "metadata": {},
   "source": [
    "### Part 1: &nbsp; Data "
   ]
  },
  {
   "cell_type": "markdown",
   "metadata": {},
   "source": [
    "For this project you'll need the complete genome sequence for _Escherichia coli_, a bacterium that lives in our lower intestines.  The most common strains play an essential role in digestion, but _E. coli_ periodically shows up in the news since other strains are associated with colitis, Crohn's Disease, and other intestinal disorders.\n",
    "\n",
    "To learn about _E. coli_ select the **Genome** database from the pull-down menu at the top of the NCBI home page.  Enter this text in the search box and click Search:\n",
    "```\n",
    "Escherichia coli[ORGN] \n",
    "```\n",
    "\n",
    "To find the complete genome sequence for the K-12 strain, select the **Nucleotide** database from the pull-down menu and add the strain ID to the search box, so it now reads\n",
    "```\n",
    "Escherichia coli[ORGN] K-12[STRN] \n",
    "```\n",
    "\n",
    "There will be a lot of search results (this is a very widely studied organism).  Look for the Genbank identifier (\"GI number\") of one of the strains and copy it.\n",
    "\n",
    "To fetch the genome file the simplest method is to create a URL and use it with `wget` to download the file.  If you want, you can use the Entrez library in Biopython to construct the URL and download the data; see the optional project at the end of this notebook.\n",
    "\n",
    "Use the GI number to create a URL that looks like this:\n",
    "```\n",
    "http://eutils.ncbi.nlm.nih.gov/entrez/eutils/efetch.fcgi?db=nucleotide&rettype=gbwithparts&retmode=text&id=NNN\n",
    "```\n",
    "where NNN is replaced by your GI number.\n",
    "\n",
    "Now use the URL with `wget` or a similar command to fetch the genome file and save it as a file named `ecoli.gbk` on your system.  Here's the shell command I typed (with NNN instead of my GI number):\n",
    "```\n",
    "$ wget 'http://eutils.ncbi.nlm.nih.gov/entrez/eutils/efetch.fcgi?db=nucleotide&rettype=gbwithparts&retmode=text&id=NNN' -O ecoli.wg.gbk\n",
    "```"
   ]
  },
  {
   "cell_type": "markdown",
   "metadata": {},
   "source": [
    "Edit the markdown cell below to answer the following questions about your genome file:\n",
    "* what GI number did you use to download the file?\n",
    "* how big is your file (in GB)?\n",
    "* how many lines are in the file? \n",
    "* what is the first line in the file? \n",
    "* how many lines have the string `\"tRNA\"`? \n",
    "* how many of these lines are the start of \"tRNA features\"? "
   ]
  },
  {
   "cell_type": "markdown",
   "metadata": {
    "collapsed": true,
    "deletable": false,
    "nbgrader": {
     "checksum": "e072d675ee9ab1d52cc5d1633f6c7448",
     "grade": true,
     "grade_id": "download",
     "locked": false,
     "points": 15,
     "solution": true
    }
   },
   "source": [
    "* GI #: 985000614\n",
    "* file size: 10.79 MB"
   ]
  },
  {
   "cell_type": "code",
   "execution_count": 3,
   "metadata": {
    "collapsed": false
   },
   "outputs": [
    {
     "name": "stdout",
     "output_type": "stream",
     "text": [
      "-rw-r--r--  1 hrnmy  staff    11M Apr 11 14:22 ecoli.gbk\r\n"
     ]
    }
   ],
   "source": [
    "! ls -lh ecoli.gbk"
   ]
  },
  {
   "cell_type": "code",
   "execution_count": 4,
   "metadata": {
    "collapsed": false
   },
   "outputs": [
    {
     "name": "stdout",
     "output_type": "stream",
     "text": [
      "  170278 ecoli.gbk\r\n"
     ]
    }
   ],
   "source": [
    "! wc -l ecoli.gbk"
   ]
  },
  {
   "cell_type": "code",
   "execution_count": 5,
   "metadata": {
    "collapsed": false
   },
   "outputs": [
    {
     "name": "stdout",
     "output_type": "stream",
     "text": [
      "LOCUS       CP014225             4659625 bp    DNA     circular BCT 02-FEB-2016\r\n"
     ]
    }
   ],
   "source": [
    "! head -n 1 ecoli.gbk"
   ]
  },
  {
   "cell_type": "code",
   "execution_count": 6,
   "metadata": {
    "collapsed": false
   },
   "outputs": [
    {
     "name": "stdout",
     "output_type": "stream",
     "text": [
      "431\r\n"
     ]
    }
   ],
   "source": [
    "! grep -c 'tRNA' ecoli.gbk"
   ]
  },
  {
   "cell_type": "code",
   "execution_count": 7,
   "metadata": {
    "collapsed": false
   },
   "outputs": [
    {
     "name": "stdout",
     "output_type": "stream",
     "text": [
      "0\r\n"
     ]
    }
   ],
   "source": [
    "! grep -c 'tRNA features' ecoli.gbk"
   ]
  },
  {
   "cell_type": "markdown",
   "metadata": {},
   "source": [
    "### Extra Credit"
   ]
  },
  {
   "cell_type": "markdown",
   "metadata": {},
   "source": [
    "Use biopython entrez.esearch to find id's for e.coli genome then use efetch to download a genome to .gbk file."
   ]
  },
  {
   "cell_type": "code",
   "execution_count": 16,
   "metadata": {
    "collapsed": true
   },
   "outputs": [],
   "source": [
    "from Bio import Entrez"
   ]
  },
  {
   "cell_type": "code",
   "execution_count": 41,
   "metadata": {
    "collapsed": false
   },
   "outputs": [],
   "source": [
    "Entrez.email = 'hduvvuri@uoregon.edu'\n",
    "handle = Entrez.esearch(db = 'nucleotide', term = 'escherichia coli[ORGN] k-12[STRN]')\n",
    "record = Entrez.read(handle)"
   ]
  },
  {
   "cell_type": "code",
   "execution_count": 42,
   "metadata": {
    "collapsed": false
   },
   "outputs": [
    {
     "data": {
      "text/plain": [
       "['1015632154', '1000950200', '985533865', '985000614', '983515101', '939732440', '939731527', '937526251', '937521852', '937517453', '958167895', '958167893', '958167892', '958167890', '958167888', '958167886', '3434983', '938151182', '938151181', '938149557']"
      ]
     },
     "execution_count": 42,
     "metadata": {},
     "output_type": "execute_result"
    }
   ],
   "source": [
    "record['IdList']"
   ]
  },
  {
   "cell_type": "code",
   "execution_count": 45,
   "metadata": {
    "collapsed": true
   },
   "outputs": [],
   "source": [
    "ecoli_handle = Entrez.efetch(db = 'nucleotide', id = '985533865', rettype = 'gb')\n",
    "ecoli_file = open('ecoli_2.gbk', 'w')\n",
    "ecoli_file.write(ecoli_handle.read())\n",
    "ecoli_handle.close()\n",
    "ecoli_file.close()"
   ]
  },
  {
   "cell_type": "markdown",
   "metadata": {},
   "source": [
    "### Part 2: &nbsp; Exploring the Genome "
   ]
  },
  {
   "cell_type": "markdown",
   "metadata": {},
   "source": [
    "Below are a series of questions about the _E. coli_ genome that can be answered using Biopython.  Load the Genbank file with a call to `SeqIO.read`.  You can then use methods of the resulting `SeqRecord` object to answer the questions.\n",
    "\n",
    "There are three notebook cells for each question: (1) a markdown cell with the question, (2) an empty markdown cell for you to explain how you answered the question, and (3) an empty code cell where you should enter the Python expression you used to answer the question.\n",
    "\n",
    "Each time you work on this project make sure you execute this code cell to import the Biopython modules you need (feel free to add more imports to this cell if you want):"
   ]
  },
  {
   "cell_type": "code",
   "execution_count": 2,
   "metadata": {
    "collapsed": true
   },
   "outputs": [],
   "source": [
    "from Bio.Seq import Seq\n",
    "from Bio import SeqIO"
   ]
  },
  {
   "cell_type": "code",
   "execution_count": 3,
   "metadata": {
    "collapsed": false
   },
   "outputs": [],
   "source": [
    "ecoli = SeqIO.read('ecoli.gbk', 'genbank')"
   ]
  },
  {
   "cell_type": "markdown",
   "metadata": {},
   "source": [
    "##### Sequence Name"
   ]
  },
  {
   "cell_type": "markdown",
   "metadata": {},
   "source": [
    "What is the name of the sequence?"
   ]
  },
  {
   "cell_type": "markdown",
   "metadata": {
    "deletable": false,
    "nbgrader": {
     "checksum": "871f451fc7c65ef91c993605cd7d835d",
     "grade": true,
     "grade_id": "name_md",
     "locked": false,
     "points": 5,
     "solution": true
    }
   },
   "source": [
    "using SeqIO name function to find name of genome"
   ]
  },
  {
   "cell_type": "code",
   "execution_count": 8,
   "metadata": {
    "collapsed": false,
    "deletable": false,
    "nbgrader": {
     "checksum": "4eda3820da79b03b562d1230eeff4ea7",
     "grade": true,
     "grade_id": "name_code",
     "locked": false,
     "points": 5,
     "solution": true
    }
   },
   "outputs": [
    {
     "data": {
      "text/plain": [
       "'CP014225'"
      ]
     },
     "execution_count": 8,
     "metadata": {},
     "output_type": "execute_result"
    }
   ],
   "source": [
    "ecoli.name"
   ]
  },
  {
   "cell_type": "markdown",
   "metadata": {},
   "source": [
    "##### Sequence Size"
   ]
  },
  {
   "cell_type": "markdown",
   "metadata": {},
   "source": [
    "What is the total size in base pairs (bp) of the chromosome?"
   ]
  },
  {
   "cell_type": "markdown",
   "metadata": {
    "deletable": false,
    "nbgrader": {
     "checksum": "24bde5c6ecd9828a8480ddaef8700e5e",
     "grade": true,
     "grade_id": "size_md",
     "locked": false,
     "points": 5,
     "solution": true
    }
   },
   "source": [
    "using len() function to find the number of basepairs in ecoli"
   ]
  },
  {
   "cell_type": "code",
   "execution_count": 9,
   "metadata": {
    "collapsed": false,
    "deletable": false,
    "nbgrader": {
     "checksum": "dee92d3032d0b10d9d14a02b2cdec6ca",
     "grade": true,
     "grade_id": "size_code",
     "locked": false,
     "points": 5,
     "solution": true
    }
   },
   "outputs": [
    {
     "data": {
      "text/plain": [
       "4659625"
      ]
     },
     "execution_count": 9,
     "metadata": {},
     "output_type": "execute_result"
    }
   ],
   "source": [
    "len(ecoli)"
   ]
  },
  {
   "cell_type": "markdown",
   "metadata": {},
   "source": [
    "##### Feature List"
   ]
  },
  {
   "cell_type": "markdown",
   "metadata": {
    "deletable": false,
    "nbgrader": {
     "checksum": "9a7176a2395747ba659f3a55eb2662b0",
     "grade": true,
     "grade_id": "features_md",
     "locked": false,
     "points": 5,
     "solution": true
    }
   },
   "source": [
    "Use the features function in SeqIO and use python's len function to find size"
   ]
  },
  {
   "cell_type": "code",
   "execution_count": 10,
   "metadata": {
    "collapsed": false,
    "deletable": false,
    "nbgrader": {
     "checksum": "6bb5ffb6284009480f347e286b5e69c0",
     "grade": true,
     "grade_id": "features_code",
     "locked": false,
     "points": 5,
     "solution": true
    }
   },
   "outputs": [
    {
     "data": {
      "text/plain": [
       "9243"
      ]
     },
     "execution_count": 10,
     "metadata": {},
     "output_type": "execute_result"
    }
   ],
   "source": [
    "len(ecoli.features)"
   ]
  },
  {
   "cell_type": "markdown",
   "metadata": {},
   "source": [
    "##### Pseudogenes"
   ]
  },
  {
   "cell_type": "markdown",
   "metadata": {},
   "source": [
    "How many of the features are pseudogenes?  Hint: find features that have a `pseudo` qualifier."
   ]
  },
  {
   "cell_type": "markdown",
   "metadata": {
    "deletable": false,
    "nbgrader": {
     "checksum": "1f969e4b97b018158b52e5a94951dc08",
     "grade": true,
     "grade_id": "table_md",
     "locked": false,
     "points": 5,
     "solution": true
    }
   },
   "source": [
    "list comprehension to find where all qualifiers key = pseudo, then len() finds how number of those genes"
   ]
  },
  {
   "cell_type": "code",
   "execution_count": 7,
   "metadata": {
    "collapsed": false,
    "deletable": false,
    "nbgrader": {
     "checksum": "067fdd659acd0280734e4a296a3f8792",
     "grade": true,
     "grade_id": "table_code",
     "locked": false,
     "points": 5,
     "solution": true
    }
   },
   "outputs": [
    {
     "data": {
      "text/plain": [
       "164"
      ]
     },
     "execution_count": 7,
     "metadata": {},
     "output_type": "execute_result"
    }
   ],
   "source": [
    "len([i for i in ecoli.features if 'pseudo' in i.qualifiers])"
   ]
  },
  {
   "cell_type": "markdown",
   "metadata": {},
   "source": [
    "##### Feature Types"
   ]
  },
  {
   "cell_type": "markdown",
   "metadata": {},
   "source": [
    "Create a dictionary that contains each type of feature found in this genome and the number of times that feature occurs.  Your dictionary should look something like this:\n",
    "```\n",
    "{'CDS': 4492,\n",
    " 'gene': 4619,\n",
    " ...\n",
    "}\n",
    "```"
   ]
  },
  {
   "cell_type": "markdown",
   "metadata": {
    "collapsed": true,
    "deletable": false,
    "nbgrader": {
     "checksum": "63d53a20f21282e08a1d9c0f52a0531a",
     "grade": true,
     "grade_id": "dict_md",
     "locked": false,
     "points": 5,
     "solution": true
    }
   },
   "source": [
    "Loop over ecoli features to see if features.type is in the dictionary, if not, create new key for that feature, but if it is, add +1 to the count."
   ]
  },
  {
   "cell_type": "code",
   "execution_count": 12,
   "metadata": {
    "collapsed": false,
    "deletable": false,
    "nbgrader": {
     "checksum": "3d71a98d7068b589e52af5469697f407",
     "grade": true,
     "grade_id": "dict_code",
     "locked": false,
     "points": 5,
     "solution": true
    }
   },
   "outputs": [
    {
     "data": {
      "text/plain": [
       "{'CDS': 4489,\n",
       " 'gene': 4617,\n",
       " 'misc_binding': 6,\n",
       " 'ncRNA': 18,\n",
       " 'rRNA': 22,\n",
       " 'repeat_region': 2,\n",
       " 'source': 1,\n",
       " 'tRNA': 87,\n",
       " 'tmRNA': 1}"
      ]
     },
     "execution_count": 12,
     "metadata": {},
     "output_type": "execute_result"
    }
   ],
   "source": [
    "features_dict = {}\n",
    "\n",
    "for i in ecoli.features:\n",
    "    if i.type not in features_dict.keys():\n",
    "        features_dict[i.type] = 1\n",
    "    else:\n",
    "        features_dict[i.type] += 1\n",
    "    \n",
    "    \n",
    "features_dict"
   ]
  },
  {
   "cell_type": "markdown",
   "metadata": {},
   "source": [
    "### Part 3: &nbsp; tRNA Sequence File "
   ]
  },
  {
   "cell_type": "markdown",
   "metadata": {},
   "source": [
    "Write a Python function called `extract_trnas` that prints a FASTA file containing all the tRNA sequences in a genome.  The function should take two arguments: the name of the input file (which you can assume is a `.gbk` file) and the name of the output file.\n",
    "\n",
    "The defline for each output sequence should have the name of the genome followed by the name of the tRNA.  To make the tRNA name use the \"product\" attribute of the tRNA feature, which is a string of the form \"tRNA-XXX\", where XXX is the 3-letter amino acid transported by this tRNA.  Because there are multiple tRNAs for each amino acid you'll need to attach a number to each ID, starting with 1.  For example, the first tRNA for Arg will be called \"tRNA-Arg-1\", the second will be \"tRNA-Arg-2\", and so on.\n",
    "\n",
    "Here is the first part of the output from my program (with the genome name replaced with XXX):\n",
    "```\n",
    ">XXX tRNA-Arg-1\n",
    "GCGCCCTTAGCTCAGTTGGATAGAGCAACGACCTTCTAAGTCGTGGGCCGCAGGTTCGAATCCTGCAGGGCGCGCCA\n",
    ">XXX tRNA-Thr-1\n",
    "GCTCAAGTAGTTAAAAATGCATTAACATCGCATTCGTAATGCGAAGGTCGTAGGTTCGACTCCTATTATCGGCACCA\n",
    "...\n",
    "```\n",
    "\n",
    "Use the following markdown cell to describe your function and explain how you tested it."
   ]
  },
  {
   "cell_type": "markdown",
   "metadata": {
    "collapsed": true,
    "deletable": false,
    "nbgrader": {
     "checksum": "93492f4145fb3be3675012d487f70644",
     "grade": true,
     "grade_id": "extract_doc",
     "locked": false,
     "points": 10,
     "solution": true
    }
   },
   "source": [
    "extract_trnas takes the input file to give a SeqRecord object. open() creates a new file and a for loop loops over the features in the genbank file to only write features.type that are tRNAs to the fasta file. The header and sequence is written to the file for each tRNA feature, with the sequence found by indexing the full genome sequence using the tRNA location found in the feature. The index is found by appending each tRNA name to a seen list and using count() to find the count of the tRNAs seen.\n",
    "\n",
    "Tested using print statements in the loop for each statement written to the file and by writing out a file for the ecoli genome tRNAs"
   ]
  },
  {
   "cell_type": "markdown",
   "metadata": {},
   "source": [
    "Edit the body of the function in this code cell so it contains your solution to this problem:"
   ]
  },
  {
   "cell_type": "code",
   "execution_count": 15,
   "metadata": {
    "collapsed": true,
    "deletable": false,
    "nbgrader": {
     "checksum": "84f1f037bc404984fc6094bb5e7c28e7",
     "grade": true,
     "grade_id": "extract_trnas",
     "locked": false,
     "points": 25,
     "solution": true
    }
   },
   "outputs": [],
   "source": [
    "def extract_trnas(input, output):\n",
    "    \n",
    "    genome = SeqIO.read(input, 'genbank')\n",
    "    seen = []\n",
    "    \n",
    "    with open(output, 'w+') as file_out:\n",
    "        for i in genome.features:\n",
    "            if i.type == 'tRNA':\n",
    "                seq = genome.seq[i.location.nofuzzy_start:i.location.nofuzzy_end+1]\n",
    "                seen.append(i.qualifiers['product'][0])\n",
    "                index = seen.count(i.qualifiers['product'][0])\n",
    "                \n",
    "                file_out.write('>{} {}-{} \\n'.format(genome.name, i.qualifiers['product'][0], index))\n",
    "                file_out.write('{} \\n'.format(str(seq)))\n",
    "            "
   ]
  },
  {
   "cell_type": "code",
   "execution_count": 48,
   "metadata": {
    "collapsed": false
   },
   "outputs": [],
   "source": [
    "extract_trnas('ecoli.gbk', 'trnas_2.fasta')"
   ]
  }
 ],
 "metadata": {
  "kernelspec": {
   "display_name": "Python 3",
   "language": "python",
   "name": "python3"
  },
  "language_info": {
   "codemirror_mode": {
    "name": "ipython",
    "version": 3
   },
   "file_extension": ".py",
   "mimetype": "text/x-python",
   "name": "python",
   "nbconvert_exporter": "python",
   "pygments_lexer": "ipython3",
   "version": "3.4.4"
  }
 },
 "nbformat": 4,
 "nbformat_minor": 0
}
